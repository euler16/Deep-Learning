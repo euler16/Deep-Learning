{
 "cells": [
  {
   "cell_type": "code",
   "execution_count": 1,
   "metadata": {
    "collapsed": true
   },
   "outputs": [],
   "source": [
    "import tensorflow as tf"
   ]
  },
  {
   "cell_type": "markdown",
   "metadata": {},
   "source": [
    "Notes:\n",
    "- tf.placehoder is used for input/label data, which usually don't change\n",
    "- tf.Variable is used as variables such as setting weights and biases\n",
    "- tf.constant defines constants\n",
    "  matrix multiplication"
   ]
  },
  {
   "cell_type": "code",
   "execution_count": 3,
   "metadata": {
    "collapsed": false
   },
   "outputs": [
    {
     "name": "stdout",
     "output_type": "stream",
     "text": [
      "[5] [5]\n"
     ]
    }
   ],
   "source": [
    "a = tf.constant([2])\n",
    "b = tf.constant([3])\n",
    "\n",
    "# a = tf.constant(2)\n",
    "# b = tf.constant(3)\n",
    "\n",
    "c = a + b\n",
    "d = tf.add(a,b)\n",
    "\n",
    "# METHOD ONE TO INITIALISE SESSION\n",
    "\n",
    "session = tf.Session()\n",
    "result = session.run(c)\n",
    "\n",
    "result1 = session.run(d)\n",
    "\n",
    "print(result,end = \" \")\n",
    "print(result1)\n",
    "\n",
    "session.close()"
   ]
  },
  {
   "cell_type": "code",
   "execution_count": 15,
   "metadata": {
    "collapsed": false
   },
   "outputs": [
    {
     "name": "stdout",
     "output_type": "stream",
     "text": [
      "[[ 18.]]\n"
     ]
    }
   ],
   "source": [
    "matrix1 = tf.placeholder(\"float\",shape = (1,2),name = \"matrix1\")\n",
    "matrix2 = tf.placeholder(\"float\",shape = (2,1), name = \"matrix2\")\n",
    "\n",
    "product = tf.matmul(matrix1,matrix2)\n",
    "\n",
    "# METHOD TWO OF INITIALISING SESSION\n",
    "with tf.Session() as session:\n",
    "    result = session.run(product,feed_dict = {matrix1:[[3,3]],matrix2:[[3],[3]]})\n",
    "    print(result)"
   ]
  },
  {
   "cell_type": "code",
   "execution_count": 22,
   "metadata": {
    "collapsed": false
   },
   "outputs": [
    {
     "name": "stdout",
     "output_type": "stream",
     "text": [
      "[[ 12.]]\n"
     ]
    }
   ],
   "source": [
    "matrix1 = tf.placeholder(tf.float32,shape = (1,2))\n",
    "matrix2 = tf.placeholder(\"float\",None)\n",
    "\n",
    "product = tf.matmul(matrix1,matrix2)\n",
    "\n",
    "with tf.Session() as session:\n",
    "    result = session.run(product,feed_dict = {matrix2:[[3],[3]],matrix1:[[2,2]]})\n",
    "    print(result)"
   ]
  },
  {
   "cell_type": "code",
   "execution_count": 23,
   "metadata": {
    "collapsed": false
   },
   "outputs": [
    {
     "name": "stdout",
     "output_type": "stream",
     "text": [
      "[[ 18.]]\n"
     ]
    }
   ],
   "source": [
    "a = tf.constant([[3.,3.]])\n",
    "b = tf.constant([[3.],[3.]])\n",
    "product = tf.matmul(a,b)\n",
    "\n",
    "with tf.Session() as session:\n",
    "    result = session.run(product)\n",
    "    print(result)"
   ]
  },
  {
   "cell_type": "code",
   "execution_count": null,
   "metadata": {
    "collapsed": true
   },
   "outputs": [],
   "source": [
    "# Hello world from TensorFlow\n",
    "\n",
    "hello = tf.constant(\"Hello TensorFlow!!!\")\n",
    "sess = tf.Session()\n",
    "print(sess.run(hello))\n",
    "sess.close()"
   ]
  }
 ],
 "metadata": {
  "anaconda-cloud": {},
  "kernelspec": {
   "display_name": "Python [conda env:tf1.3]",
   "language": "python",
   "name": "conda-env-tf1.3-py"
  },
  "language_info": {
   "codemirror_mode": {
    "name": "ipython",
    "version": 3
   },
   "file_extension": ".py",
   "mimetype": "text/x-python",
   "name": "python",
   "nbconvert_exporter": "python",
   "pygments_lexer": "ipython3",
   "version": "3.5.2"
  }
 },
 "nbformat": 4,
 "nbformat_minor": 2
}
