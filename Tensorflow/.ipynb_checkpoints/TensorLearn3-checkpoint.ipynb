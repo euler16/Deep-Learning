{
 "cells": [
  {
   "cell_type": "code",
   "execution_count": 2,
   "metadata": {
    "collapsed": true
   },
   "outputs": [],
   "source": [
    "import tensorflow as tf\n",
    "import numpy as np"
   ]
  },
  {
   "cell_type": "code",
   "execution_count": 7,
   "metadata": {
    "collapsed": false
   },
   "outputs": [
    {
     "name": "stdout",
     "output_type": "stream",
     "text": [
      "[1 4 9]\n",
      "[1 4 9]\n"
     ]
    }
   ],
   "source": [
    "x = [1,2,3]\n",
    "y = tf.Variable(x)\n",
    "sqx = tf.square(x)\n",
    "sqy = tf.square(y)\n",
    "\n",
    "\n",
    "with tf.Session() as sess:\n",
    "    sess.run(tf.initialize_all_variables())\n",
    "    print(sess.run(sqx))\n",
    "    print(sess.run(sqy))"
   ]
  },
  {
   "cell_type": "code",
   "execution_count": 6,
   "metadata": {
    "collapsed": false
   },
   "outputs": [
    {
     "name": "stdout",
     "output_type": "stream",
     "text": [
      "45\n"
     ]
    }
   ],
   "source": [
    "x = tf.constant([[1,2,3],[4,5,6],[7,8,9]])\n",
    "rdc_sum = tf.reduce_sum(x)# reduction_indices = 0)\n",
    "\n",
    "with tf.Session() as  sess:\n",
    "    print(sess.run(rdc_sum))"
   ]
  },
  {
   "cell_type": "code",
   "execution_count": 11,
   "metadata": {
    "collapsed": false
   },
   "outputs": [
    {
     "name": "stdout",
     "output_type": "stream",
     "text": [
      "[[0 0 0]\n",
      " [1 1 1]\n",
      " [4 4 4]]\n",
      "[5 5 5]\n"
     ]
    }
   ],
   "source": [
    "y = tf.constant([[1,2,3],[5,6,7],[9,10,11]])\n",
    "nrm = (x-y)**2\n",
    "\n",
    "rdc_nrm1 = tf.reduce_sum(nrm,reduction_indices = 1)\n",
    "\n",
    "with tf.Session() as sess:\n",
    "    print(sess.run(nrm))\n",
    "    print(sess.run(rdc_nrm1))"
   ]
  },
  {
   "cell_type": "code",
   "execution_count": 8,
   "metadata": {
    "collapsed": false
   },
   "outputs": [
    {
     "name": "stdout",
     "output_type": "stream",
     "text": [
      "Tensor(\"pow:0\", shape=(3, 3), dtype=int32)\n"
     ]
    }
   ],
   "source": []
  },
  {
   "cell_type": "code",
   "execution_count": null,
   "metadata": {
    "collapsed": true
   },
   "outputs": [],
   "source": []
  }
 ],
 "metadata": {
  "anaconda-cloud": {},
  "kernelspec": {
   "display_name": "Python [conda env:tf1.3]",
   "language": "python",
   "name": "conda-env-tf1.3-py"
  },
  "language_info": {
   "codemirror_mode": {
    "name": "ipython",
    "version": 3
   },
   "file_extension": ".py",
   "mimetype": "text/x-python",
   "name": "python",
   "nbconvert_exporter": "python",
   "pygments_lexer": "ipython3",
   "version": "3.5.2"
  }
 },
 "nbformat": 4,
 "nbformat_minor": 2
}
