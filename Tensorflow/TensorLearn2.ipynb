{
 "cells": [
  {
   "cell_type": "markdown",
   "metadata": {},
   "source": [
    "### Variables\n",
    "- Variables must be initialized by running an `init` Op after having launched the graph.   - We first have to add the `init` Op to the graph."
   ]
  },
  {
   "cell_type": "code",
   "execution_count": 1,
   "metadata": {
    "collapsed": true
   },
   "outputs": [],
   "source": [
    "import tensorflow as tf"
   ]
  },
  {
   "cell_type": "code",
   "execution_count": 9,
   "metadata": {
    "collapsed": false
   },
   "outputs": [
    {
     "name": "stdout",
     "output_type": "stream",
     "text": [
      "0\n",
      "Tensor(\"Add_7:0\", shape=(), dtype=int32)\n",
      "Tensor(\"Assign_7:0\", shape=(), dtype=int32_ref)\n",
      "1\n"
     ]
    }
   ],
   "source": [
    "# creating a variable : Note we gave an initialization value\n",
    "state = tf.Variable(0,name = \"counter\")\n",
    "one = tf.constant(1)\n",
    "incr = tf.add(state,one)\n",
    "\n",
    "# state = state + one produces error\n",
    "\n",
    "update = tf.assign(state,incr)\n",
    "\n",
    "# the initialization operation\n",
    "init_op = tf.initialize_all_variables()\n",
    "\n",
    "with tf.Session() as sess:\n",
    "    # print(sess.run(state)) ERROR\n",
    "    sess.run(init_op)   # initialized my variables\n",
    "    print(sess.run(state))\n",
    "    sess.run(incr)\n",
    "    print(incr)\n",
    "    sess.run(update)\n",
    "    print(update)\n",
    "    print(sess.run(state))"
   ]
  },
  {
   "cell_type": "markdown",
   "metadata": {},
   "source": [
    "## Custom Initialization\n",
    "\n",
    "The convenience function tf.initialize_all_variables() adds an op to initialize all variables in the model. You can also pass it an explicit list of variables to initialize. See the Variables Documentation for more options, including checking if variables are initialized."
   ]
  },
  {
   "cell_type": "markdown",
   "metadata": {},
   "source": [
    "## Initialization from another Variable\n",
    "\n",
    "You sometimes need to initialize a variable from the initial value of another variable. As the op added by tf.initialize_all_variables() initializes all variables in parallel you have to be careful when this is needed.\n",
    "\n",
    "To initialize a new variable from the value of another variable use the other variable's initialized_value() property. You can use the initialized value directly as the initial value for the new variable, or you can use it as any other tensor to compute a value for the new variable."
   ]
  },
  {
   "cell_type": "code",
   "execution_count": 11,
   "metadata": {
    "collapsed": false
   },
   "outputs": [
    {
     "name": "stdout",
     "output_type": "stream",
     "text": [
      "[[-1.34208512  0.22524731 -0.3628915 ]\n",
      " [ 0.80544555 -0.91621655  1.92215836]\n",
      " [ 0.40918729  1.60945094 -1.02584553]]\n",
      "[[-0.03032589]\n",
      " [-0.72213864]\n",
      " [-0.41745949]]\n",
      "[[-1.34208512  0.22524731 -0.3628915 ]\n",
      " [ 0.80544555 -0.91621655  1.92215836]\n",
      " [ 0.40918729  1.60945094 -1.02584553]]\n",
      "[[-0.06065178]\n",
      " [-1.44427729]\n",
      " [-0.83491898]]\n"
     ]
    }
   ],
   "source": [
    "weights = tf.Variable(tf.random_normal(shape = (3,3),mean = 0,stddev = 1.0),name = \"weights\")\n",
    "biases = tf.Variable(tf.random_uniform(shape = (3,1),minval = -1,maxval = 1),name = \"biases\")\n",
    "\n",
    "w2 = tf.Variable(weights.initialized_value(),name = \"w2\")\n",
    "b2 = tf.Variable(biases.initialized_value()*2,name = \"b2\")\n",
    "\n",
    "# init_op1 = tf.initialize_all_variables([weights])\n",
    "# init_op2 = tf.initialize_all_variables([biases])  DIDN'T WORK\n",
    "# init_op3 = tf.initialize_all_variables([w2,b2])\n",
    "\n",
    "init = tf.initialize_all_variables()\n",
    "\n",
    "with tf.Session() as sess:\n",
    "    # sess.run(init_op1)\n",
    "    # sess.run(inti_op2)\n",
    "    # sess.run(init_op3)\n",
    "    sess.run(init)\n",
    "    \n",
    "    print(sess.run(weights))\n",
    "    print(sess.run(biases))\n",
    "    print(sess.run(w2))\n",
    "    print(sess.run(b2))"
   ]
  }
 ],
 "metadata": {
  "anaconda-cloud": {},
  "kernelspec": {
   "display_name": "Python [conda env:tf1.3]",
   "language": "python",
   "name": "conda-env-tf1.3-py"
  },
  "language_info": {
   "codemirror_mode": {
    "name": "ipython",
    "version": 3
   },
   "file_extension": ".py",
   "mimetype": "text/x-python",
   "name": "python",
   "nbconvert_exporter": "python",
   "pygments_lexer": "ipython3",
   "version": "3.5.2"
  }
 },
 "nbformat": 4,
 "nbformat_minor": 2
}
