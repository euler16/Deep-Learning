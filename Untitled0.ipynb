{
  "nbformat": 4,
  "nbformat_minor": 0,
  "metadata": {
    "colab": {
      "name": "Untitled0.ipynb",
      "version": "0.3.2",
      "provenance": [],
      "collapsed_sections": [],
      "include_colab_link": true
    },
    "kernelspec": {
      "name": "python2",
      "display_name": "Python 2"
    }
  },
  "cells": [
    {
      "cell_type": "markdown",
      "metadata": {
        "id": "view-in-github",
        "colab_type": "text"
      },
      "source": [
        "[View in Colaboratory](https://colab.research.google.com/github/euler16/Deep-Learning/blob/master/Untitled0.ipynb)"
      ]
    },
    {
      "metadata": {
        "id": "CpAR1TN4-FsM",
        "colab_type": "code",
        "colab": {
          "base_uri": "https://localhost:8080/",
          "height": 1346
        },
        "outputId": "ee1765ca-a82e-4750-e9c8-ec36dcc91a43"
      },
      "cell_type": "code",
      "source": [
        "!pip install svgwrite==1.1.6;\n",
        "!pip uninstall -y tensorflow;\n",
        "!pip uninstall -y magenta;\n",
        "!pip install tensorflow==1.2.1 magenta;\n",
        "\n",
        "import numpy as np\n",
        "import time\n",
        "import random\n",
        "import cPickle\n",
        "import codecs\n",
        "import collections\n",
        "import os\n",
        "import math\n",
        "import json\n",
        "import tensorflow as tf\n",
        "from six.moves import xrange\n",
        "\n",
        "# libraries required for visualisation:\n",
        "from IPython.display import SVG, display\n",
        "import svgwrite # conda install -c omnia svgwrite=1.1.6\n",
        "import PIL\n",
        "from PIL import Image\n",
        "import matplotlib.pyplot as plt\n",
        "\n",
        "\n",
        "from google.colab import files\n",
        "\n",
        "\n",
        "# set numpy output to something sensible\n",
        "np.set_printoptions(precision=8, edgeitems=6, linewidth=200, suppress=True)"
      ],
      "execution_count": 20,
      "outputs": [
        {
          "output_type": "stream",
          "text": [
            "Requirement already satisfied: svgwrite==1.1.6 in /usr/local/lib/python2.7/dist-packages (1.1.6)\r\n",
            "Requirement already satisfied: pyparsing>=2.0.1 in /usr/local/lib/python2.7/dist-packages (from svgwrite==1.1.6) (2.2.0)\n",
            "\u001b[31mmagenta 0.3.9 has requirement tensorflow>=1.8.0, but you'll have tensorflow 1.2.1 which is incompatible.\u001b[0m\n",
            "Uninstalling tensorflow-1.2.1:\n",
            "  Successfully uninstalled tensorflow-1.2.1\n",
            "Uninstalling magenta-0.3.9:\n",
            "  Successfully uninstalled magenta-0.3.9\n",
            "Collecting tensorflow==1.2.1\n",
            "  Using cached https://files.pythonhosted.org/packages/35/9c/1c353f584f90769e7fa41fe5c45ffc8a3032221945e142938e74f5498cb9/tensorflow-1.2.1-cp27-cp27mu-manylinux1_x86_64.whl\n",
            "Collecting magenta\n",
            "  Using cached https://files.pythonhosted.org/packages/ef/39/96c9aee9e10d29b339ea0330c1440e79742c05159cf1ac4c139ee9db0821/magenta-0.3.9-py2.py3-none-any.whl\n",
            "Requirement already satisfied: numpy>=1.11.0 in /usr/local/lib/python2.7/dist-packages (from tensorflow==1.2.1) (1.14.5)\n",
            "Requirement already satisfied: mock>=2.0.0 in /usr/local/lib/python2.7/dist-packages (from tensorflow==1.2.1) (2.0.0)\n",
            "Requirement already satisfied: protobuf>=3.2.0 in /usr/local/lib/python2.7/dist-packages (from tensorflow==1.2.1) (3.6.0)\n",
            "Requirement already satisfied: backports.weakref==1.0rc1 in /usr/local/lib/python2.7/dist-packages (from tensorflow==1.2.1) (1.0rc1)\n",
            "Requirement already satisfied: bleach==1.5.0 in /usr/local/lib/python2.7/dist-packages (from tensorflow==1.2.1) (1.5.0)\n",
            "Requirement already satisfied: wheel in /usr/local/lib/python2.7/dist-packages (from tensorflow==1.2.1) (0.31.1)\n",
            "Requirement already satisfied: six>=1.10.0 in /usr/local/lib/python2.7/dist-packages (from tensorflow==1.2.1) (1.11.0)\n",
            "Requirement already satisfied: html5lib==0.9999999 in /usr/local/lib/python2.7/dist-packages (from tensorflow==1.2.1) (0.9999999)\n",
            "Requirement already satisfied: werkzeug>=0.11.10 in /usr/local/lib/python2.7/dist-packages (from tensorflow==1.2.1) (0.14.1)\n",
            "Requirement already satisfied: markdown>=2.6.8 in /usr/local/lib/python2.7/dist-packages (from tensorflow==1.2.1) (2.6.11)\n",
            "Requirement already satisfied: joblib<0.12 in /usr/local/lib/python2.7/dist-packages (from magenta) (0.11)\n",
            "Requirement already satisfied: pandas>=0.18.1 in /usr/local/lib/python2.7/dist-packages (from magenta) (0.22.0)\n",
            "Requirement already satisfied: scipy>=0.18.1 in /usr/local/lib/python2.7/dist-packages (from magenta) (0.19.1)\n",
            "Requirement already satisfied: python-rtmidi in /usr/local/lib/python2.7/dist-packages (from magenta) (1.1.0)\n",
            "Requirement already satisfied: pretty-midi>=0.2.6 in /usr/local/lib/python2.7/dist-packages (from magenta) (0.2.8)\n",
            "Requirement already satisfied: matplotlib>=1.5.3 in /usr/local/lib/python2.7/dist-packages (from magenta) (2.1.2)\n",
            "Requirement already satisfied: intervaltree>=2.1.0 in /usr/local/lib/python2.7/dist-packages (from magenta) (2.1.0)\n",
            "Requirement already satisfied: futures; python_version == \"2.7\" in /usr/local/lib/python2.7/dist-packages (from magenta) (3.2.0)\n",
            "Requirement already satisfied: IPython in /usr/local/lib/python2.7/dist-packages (from magenta) (5.5.0)\n",
            "Requirement already satisfied: mido==1.2.6 in /usr/local/lib/python2.7/dist-packages (from magenta) (1.2.6)\n",
            "Requirement already satisfied: bokeh>=0.12.0 in /usr/local/lib/python2.7/dist-packages (from magenta) (0.13.0)\n",
            "Requirement already satisfied: mir-eval>=0.4 in /usr/local/lib/python2.7/dist-packages (from magenta) (0.4)\n",
            "Requirement already satisfied: Pillow>=3.4.2 in /usr/local/lib/python2.7/dist-packages (from magenta) (4.0.0)\n",
            "Requirement already satisfied: librosa>=0.6.0 in /usr/local/lib/python2.7/dist-packages (from magenta) (0.6.1)\n",
            "Requirement already satisfied: funcsigs>=1; python_version < \"3.3\" in /usr/local/lib/python2.7/dist-packages (from mock>=2.0.0->tensorflow==1.2.1) (1.0.2)\n",
            "Requirement already satisfied: pbr>=0.11 in /usr/local/lib/python2.7/dist-packages (from mock>=2.0.0->tensorflow==1.2.1) (4.1.0)\n",
            "Requirement already satisfied: setuptools in /usr/local/lib/python2.7/dist-packages (from protobuf>=3.2.0->tensorflow==1.2.1) (39.1.0)\n",
            "Requirement already satisfied: pytz>=2011k in /usr/local/lib/python2.7/dist-packages (from pandas>=0.18.1->magenta) (2018.5)\n",
            "Requirement already satisfied: python-dateutil in /usr/local/lib/python2.7/dist-packages (from pandas>=0.18.1->magenta) (2.5.3)\n",
            "Requirement already satisfied: cycler>=0.10 in /usr/local/lib/python2.7/dist-packages (from matplotlib>=1.5.3->magenta) (0.10.0)\n",
            "Requirement already satisfied: backports.functools-lru-cache in /usr/local/lib/python2.7/dist-packages (from matplotlib>=1.5.3->magenta) (1.5)\n",
            "Requirement already satisfied: subprocess32 in /usr/local/lib/python2.7/dist-packages (from matplotlib>=1.5.3->magenta) (3.5.2)\n",
            "Requirement already satisfied: pyparsing!=2.0.4,!=2.1.2,!=2.1.6,>=2.0.1 in /usr/local/lib/python2.7/dist-packages (from matplotlib>=1.5.3->magenta) (2.2.0)\n",
            "Requirement already satisfied: sortedcontainers in /usr/local/lib/python2.7/dist-packages (from intervaltree>=2.1.0->magenta) (2.0.4)\n",
            "Requirement already satisfied: simplegeneric>0.8 in /usr/local/lib/python2.7/dist-packages (from IPython->magenta) (0.8.1)\n",
            "Requirement already satisfied: pickleshare in /usr/local/lib/python2.7/dist-packages (from IPython->magenta) (0.7.4)\n",
            "Requirement already satisfied: backports.shutil-get-terminal-size; python_version == \"2.7\" in /usr/local/lib/python2.7/dist-packages (from IPython->magenta) (1.0.0)\n",
            "Requirement already satisfied: pathlib2; python_version == \"2.7\" or python_version == \"3.3\" in /usr/local/lib/python2.7/dist-packages (from IPython->magenta) (2.3.2)\n",
            "Requirement already satisfied: pexpect; sys_platform != \"win32\" in /usr/local/lib/python2.7/dist-packages (from IPython->magenta) (4.6.0)\n",
            "Requirement already satisfied: traitlets>=4.2 in /usr/local/lib/python2.7/dist-packages (from IPython->magenta) (4.3.2)\n",
            "Requirement already satisfied: pygments in /usr/local/lib/python2.7/dist-packages (from IPython->magenta) (2.1.3)\n",
            "Requirement already satisfied: decorator in /usr/local/lib/python2.7/dist-packages (from IPython->magenta) (4.3.0)\n",
            "Requirement already satisfied: prompt-toolkit<2.0.0,>=1.0.4 in /usr/local/lib/python2.7/dist-packages (from IPython->magenta) (1.0.15)\n",
            "Requirement already satisfied: packaging>=16.8 in /usr/local/lib/python2.7/dist-packages (from bokeh>=0.12.0->magenta) (17.1)\n",
            "Requirement already satisfied: PyYAML>=3.10 in /usr/local/lib/python2.7/dist-packages (from bokeh>=0.12.0->magenta) (3.13)\n",
            "Requirement already satisfied: Jinja2>=2.7 in /usr/local/lib/python2.7/dist-packages (from bokeh>=0.12.0->magenta) (2.10)\n",
            "Requirement already satisfied: tornado>=4.3 in /usr/local/lib/python2.7/dist-packages (from bokeh>=0.12.0->magenta) (4.5.3)\n",
            "Requirement already satisfied: future in /usr/local/lib/python2.7/dist-packages (from mir-eval>=0.4->magenta) (0.16.0)\n",
            "Requirement already satisfied: olefile in /usr/local/lib/python2.7/dist-packages (from Pillow>=3.4.2->magenta) (0.45.1)\n",
            "Requirement already satisfied: audioread>=2.0.0 in /usr/local/lib/python2.7/dist-packages (from librosa>=0.6.0->magenta) (2.1.6)\n",
            "Requirement already satisfied: numba>=0.38.0 in /usr/local/lib/python2.7/dist-packages (from librosa>=0.6.0->magenta) (0.39.0)\n",
            "Requirement already satisfied: scikit-learn!=0.19.0,>=0.14.0 in /usr/local/lib/python2.7/dist-packages (from librosa>=0.6.0->magenta) (0.19.2)\n",
            "Requirement already satisfied: resampy>=0.2.0 in /usr/local/lib/python2.7/dist-packages (from librosa>=0.6.0->magenta) (0.2.1)\n",
            "Requirement already satisfied: scandir; python_version < \"3.5\" in /usr/local/lib/python2.7/dist-packages (from pathlib2; python_version == \"2.7\" or python_version == \"3.3\"->IPython->magenta) (1.7)\n",
            "Requirement already satisfied: ptyprocess>=0.5 in /usr/local/lib/python2.7/dist-packages (from pexpect; sys_platform != \"win32\"->IPython->magenta) (0.6.0)\n",
            "Requirement already satisfied: enum34; python_version == \"2.7\" in /usr/local/lib/python2.7/dist-packages (from traitlets>=4.2->IPython->magenta) (1.1.6)\n",
            "Requirement already satisfied: ipython-genutils in /usr/local/lib/python2.7/dist-packages (from traitlets>=4.2->IPython->magenta) (0.2.0)\n",
            "Requirement already satisfied: wcwidth in /usr/local/lib/python2.7/dist-packages (from prompt-toolkit<2.0.0,>=1.0.4->IPython->magenta) (0.1.7)\n",
            "Requirement already satisfied: MarkupSafe>=0.23 in /usr/local/lib/python2.7/dist-packages (from Jinja2>=2.7->bokeh>=0.12.0->magenta) (1.0)\n",
            "Requirement already satisfied: singledispatch in /usr/local/lib/python2.7/dist-packages (from tornado>=4.3->bokeh>=0.12.0->magenta) (3.4.0.3)\n",
            "Requirement already satisfied: certifi in /usr/local/lib/python2.7/dist-packages (from tornado>=4.3->bokeh>=0.12.0->magenta) (2018.4.16)\n",
            "Requirement already satisfied: backports_abc>=0.4 in /usr/local/lib/python2.7/dist-packages (from tornado>=4.3->bokeh>=0.12.0->magenta) (0.5)\n",
            "Requirement already satisfied: llvmlite>=0.24.0dev0 in /usr/local/lib/python2.7/dist-packages (from numba>=0.38.0->librosa>=0.6.0->magenta) (0.24.0)\n",
            "\u001b[31mmagenta 0.3.9 has requirement tensorflow>=1.8.0, but you'll have tensorflow 1.2.1 which is incompatible.\u001b[0m\n",
            "Installing collected packages: tensorflow, magenta\n",
            "Successfully installed magenta-0.3.9 tensorflow-1.2.1\n"
          ],
          "name": "stdout"
        }
      ]
    },
    {
      "metadata": {
        "id": "2XZ4TpxO--RD",
        "colab_type": "code",
        "colab": {
          "base_uri": "https://localhost:8080/",
          "height": 34
        },
        "outputId": "586082eb-98c5-4b77-9296-90c5eb706f0a"
      },
      "cell_type": "code",
      "source": [
        "tf.logging.info(\"TensorFlow Version: %s\", tf.__version__)"
      ],
      "execution_count": 21,
      "outputs": [
        {
          "output_type": "stream",
          "text": [
            "INFO:tensorflow:TensorFlow Version: 1.2.1\n"
          ],
          "name": "stdout"
        }
      ]
    },
    {
      "metadata": {
        "id": "G5p45MzRJYUF",
        "colab_type": "code",
        "colab": {}
      },
      "cell_type": "code",
      "source": [
        "#!kill -9 -1"
      ],
      "execution_count": 0,
      "outputs": []
    },
    {
      "metadata": {
        "id": "MzRCn_S-A6uK",
        "colab_type": "code",
        "colab": {}
      },
      "cell_type": "code",
      "source": [
        "# import our command line tools\n",
        "#!pip uninstall -y magenta;\n",
        "#!pip install magenta;\n",
        "\n",
        "from magenta.models.sketch_rnn.sketch_rnn_train import *\n",
        "from magenta.models.sketch_rnn.model import *\n",
        "from magenta.models.sketch_rnn.utils import *\n",
        "from magenta.models.sketch_rnn.rnn import *"
      ],
      "execution_count": 0,
      "outputs": []
    },
    {
      "metadata": {
        "id": "G5tKCbTCKdtO",
        "colab_type": "code",
        "colab": {
          "base_uri": "https://localhost:8080/",
          "height": 34
        },
        "outputId": "a917c9fb-1a93-43ca-bd2a-cba683591613"
      },
      "cell_type": "code",
      "source": [
        "tf.logging.info(\"TensorFlow Version: %s\", tf.__version__)"
      ],
      "execution_count": 24,
      "outputs": [
        {
          "output_type": "stream",
          "text": [
            "INFO:tensorflow:TensorFlow Version: 1.2.1\n"
          ],
          "name": "stdout"
        }
      ]
    },
    {
      "metadata": {
        "id": "dmNvTWyxBA6m",
        "colab_type": "code",
        "colab": {}
      },
      "cell_type": "code",
      "source": [
        "# little function that displays vector images and saves them to .svg\n",
        "count = 0\n",
        "def draw_strokes(data, factor=0.2, svg_filename = '/tmp/sketch_rnn/svg/sample.svg'):\n",
        "  global count\n",
        "  tf.gfile.MakeDirs(os.path.dirname(svg_filename))\n",
        "  min_x, max_x, min_y, max_y = get_bounds(data, factor)\n",
        "  dims = (50 + max_x - min_x, 50 + max_y - min_y)\n",
        "  dwg = svgwrite.Drawing(svg_filename, size=dims)\n",
        "  dwg.add(dwg.rect(insert=(0, 0), size=dims,fill='white'))\n",
        "  lift_pen = 1\n",
        "  abs_x = 25 - min_x \n",
        "  abs_y = 25 - min_y\n",
        "  p = \"M%s,%s \" % (abs_x, abs_y)\n",
        "  command = \"m\"\n",
        "  for i in xrange(len(data)):\n",
        "    if (lift_pen == 1):\n",
        "      command = \"m\"\n",
        "    elif (command != \"l\"):\n",
        "      command = \"l\"\n",
        "    else:\n",
        "      command = \"\"\n",
        "    x = float(data[i,0])/factor\n",
        "    y = float(data[i,1])/factor\n",
        "    lift_pen = data[i, 2]\n",
        "    p += command+str(x)+\",\"+str(y)+\" \"\n",
        "  the_color = \"black\"\n",
        "  stroke_width = 1\n",
        "  dwg.add(dwg.path(p).stroke(the_color,stroke_width).fill(\"none\"))\n",
        "  dwg.save()\n",
        "  #dwg.write(f)\n",
        "  #f.write(SVG(dwg.tostring()))\n",
        "  dwg.save()\n",
        "  files.download(svg_filename)\n",
        "  count += 1\n",
        "  display(SVG(dwg.tostring()))\n",
        "\n",
        "# generate a 2D grid of many vector drawings\n",
        "def make_grid_svg(s_list, grid_space=10.0, grid_space_x=16.0):\n",
        "  def get_start_and_end(x):\n",
        "    x = np.array(x)\n",
        "    x = x[:, 0:2]\n",
        "    x_start = x[0]\n",
        "    x_end = x.sum(axis=0)\n",
        "    x = x.cumsum(axis=0)\n",
        "    x_max = x.max(axis=0)\n",
        "    x_min = x.min(axis=0)\n",
        "    center_loc = (x_max+x_min)*0.5\n",
        "    return x_start-center_loc, x_end\n",
        "  x_pos = 0.0\n",
        "  y_pos = 0.0\n",
        "  result = [[x_pos, y_pos, 1]]\n",
        "  for sample in s_list:\n",
        "    s = sample[0]\n",
        "    grid_loc = sample[1]\n",
        "    grid_y = grid_loc[0]*grid_space+grid_space*0.5\n",
        "    grid_x = grid_loc[1]*grid_space_x+grid_space_x*0.5\n",
        "    start_loc, delta_pos = get_start_and_end(s)\n",
        "\n",
        "    loc_x = start_loc[0]\n",
        "    loc_y = start_loc[1]\n",
        "    new_x_pos = grid_x+loc_x\n",
        "    new_y_pos = grid_y+loc_y\n",
        "    result.append([new_x_pos-x_pos, new_y_pos-y_pos, 0])\n",
        "\n",
        "    result += s.tolist()\n",
        "    result[-1][2] = 1\n",
        "    x_pos = new_x_pos+delta_pos[0]\n",
        "    y_pos = new_y_pos+delta_pos[1]\n",
        "  return np.array(result)"
      ],
      "execution_count": 0,
      "outputs": []
    },
    {
      "metadata": {
        "id": "zb_j0rbfBTlV",
        "colab_type": "code",
        "colab": {
          "base_uri": "https://localhost:8080/",
          "height": 85
        },
        "outputId": "227cc772-cb9e-4861-970e-1715521407de"
      },
      "cell_type": "code",
      "source": [
        "!mkdir sketch_rnn;\n",
        "!mkdir sketch_rnn/models;\n",
        "!mkdir sketch_rnn/models/aaron_sheep;\n",
        "!mkdir sketch_rnn/models/aaron_sheep/layer_norm;\n",
        "\n",
        "\n",
        "data_dir = 'http://github.com/hardmaru/sketch-rnn-datasets/raw/master/aaron_sheep/'\n",
        "models_root_dir = './sketch_rnn/models'\n",
        "model_dir = './sketch_rnn/models/aaron_sheep/layer_norm'"
      ],
      "execution_count": 41,
      "outputs": [
        {
          "output_type": "stream",
          "text": [
            "mkdir: cannot create directory ‘sketch_rnn’: File exists\n",
            "mkdir: cannot create directory ‘sketch_rnn/models’: File exists\n",
            "mkdir: cannot create directory ‘sketch_rnn/models/aaron_sheep’: File exists\n",
            "mkdir: cannot create directory ‘sketch_rnn/models/aaron_sheep/layer_norm’: File exists\n"
          ],
          "name": "stdout"
        }
      ]
    },
    {
      "metadata": {
        "id": "RahfyVP1Da8-",
        "colab_type": "code",
        "colab": {
          "base_uri": "https://localhost:8080/",
          "height": 68
        },
        "outputId": "cff815ae-8e38-46c7-fca3-10a5e6672eb6"
      },
      "cell_type": "code",
      "source": [
        "download_pretrained_models(models_root_dir=models_root_dir)"
      ],
      "execution_count": 42,
      "outputs": [
        {
          "output_type": "stream",
          "text": [
            "INFO:tensorflow:./sketch_rnn/models/sketch_rnn.zip already exists, using cached copy\n",
            "INFO:tensorflow:Unzipping ./sketch_rnn/models/sketch_rnn.zip...\n",
            "INFO:tensorflow:Unzipping complete.\n"
          ],
          "name": "stdout"
        }
      ]
    },
    {
      "metadata": {
        "id": "sYmovA8nDgEy",
        "colab_type": "code",
        "colab": {
          "base_uri": "https://localhost:8080/",
          "height": 153
        },
        "outputId": "24dcf21a-9165-4be8-9e77-b61486efc4d3"
      },
      "cell_type": "code",
      "source": [
        "[train_set, valid_set, test_set, hps_model, eval_hps_model, sample_hps_model] = load_env(data_dir, model_dir)"
      ],
      "execution_count": 43,
      "outputs": [
        {
          "output_type": "stream",
          "text": [
            "INFO:tensorflow:Downloading http://github.com/hardmaru/sketch-rnn-datasets/raw/master/aaron_sheep/aaron_sheep.npz\n",
            "INFO:tensorflow:Loaded 7400/300/300 from aaron_sheep.npz\n",
            "INFO:tensorflow:Dataset combined: 8000 (7400/300/300), avg len 125\n",
            "INFO:tensorflow:model_params.max_seq_len 250.\n",
            "total images <= max_seq_len is 7400\n",
            "total images <= max_seq_len is 300\n",
            "total images <= max_seq_len is 300\n",
            "INFO:tensorflow:normalizing_scale_factor 18.5198.\n"
          ],
          "name": "stdout"
        }
      ]
    },
    {
      "metadata": {
        "id": "fvfg2yYbDq_n",
        "colab_type": "code",
        "colab": {
          "base_uri": "https://localhost:8080/",
          "height": 221
        },
        "outputId": "ddee7857-91b5-47b4-e251-b03cee9ae42c"
      },
      "cell_type": "code",
      "source": [
        "reset_graph()\n",
        "model = Model(hps_model)\n",
        "eval_model = Model(eval_hps_model, reuse=True)\n",
        "sample_model = Model(sample_hps_model, reuse=True)"
      ],
      "execution_count": 44,
      "outputs": [
        {
          "output_type": "stream",
          "text": [
            "INFO:tensorflow:Model using gpu.\n",
            "INFO:tensorflow:Input dropout mode = 0.\n",
            "INFO:tensorflow:Output dropout mode = 0.\n",
            "INFO:tensorflow:Recurrent dropout mode = 1.\n",
            "INFO:tensorflow:Model using gpu.\n",
            "INFO:tensorflow:Input dropout mode = 0.\n",
            "INFO:tensorflow:Output dropout mode = 0.\n",
            "INFO:tensorflow:Recurrent dropout mode = 0.\n",
            "INFO:tensorflow:Model using gpu.\n",
            "INFO:tensorflow:Input dropout mode = 0.\n",
            "INFO:tensorflow:Output dropout mode = 0.\n",
            "INFO:tensorflow:Recurrent dropout mode = 0.\n"
          ],
          "name": "stdout"
        }
      ]
    },
    {
      "metadata": {
        "id": "Vlpf5c5MVB0c",
        "colab_type": "code",
        "colab": {}
      },
      "cell_type": "code",
      "source": [
        "sess = tf.InteractiveSession()\n",
        "sess.run(tf.global_variables_initializer())"
      ],
      "execution_count": 0,
      "outputs": []
    },
    {
      "metadata": {
        "id": "p33eSSkrVIJm",
        "colab_type": "code",
        "colab": {
          "base_uri": "https://localhost:8080/",
          "height": 51
        },
        "outputId": "19515a7a-40c7-440d-ea7b-7850ff27488d"
      },
      "cell_type": "code",
      "source": [
        "load_checkpoint(sess, model_dir)"
      ],
      "execution_count": 46,
      "outputs": [
        {
          "output_type": "stream",
          "text": [
            "INFO:tensorflow:Loading model ./sketch_rnn/models/aaron_sheep/layer_norm/vector.\n",
            "INFO:tensorflow:Restoring parameters from ./sketch_rnn/models/aaron_sheep/layer_norm/vector\n"
          ],
          "name": "stdout"
        }
      ]
    },
    {
      "metadata": {
        "id": "gHJ59jIcVNIM",
        "colab_type": "code",
        "colab": {}
      },
      "cell_type": "code",
      "source": [
        "def encode(input_strokes):\n",
        "  strokes = to_big_strokes(input_strokes).tolist()\n",
        "  strokes.insert(0, [0, 0, 1, 0, 0])\n",
        "  seq_len = [len(input_strokes)]\n",
        "  draw_strokes(to_normal_strokes(np.array(strokes)))\n",
        "  return sess.run(eval_model.batch_z, feed_dict={eval_model.input_data: [strokes], eval_model.sequence_lengths: seq_len})[0]"
      ],
      "execution_count": 0,
      "outputs": []
    },
    {
      "metadata": {
        "id": "UFSzFryZVSiy",
        "colab_type": "code",
        "colab": {}
      },
      "cell_type": "code",
      "source": [
        "def decode(z_input=None, draw_mode=True, temperature=0.1, factor=0.2):\n",
        "  z = None\n",
        "  if z_input is not None:\n",
        "    z = [z_input]\n",
        "  sample_strokes, m = sample(sess, sample_model, seq_len=eval_model.hps.max_seq_len, temperature=temperature, z=z)\n",
        "  strokes = to_normal_strokes(sample_strokes)\n",
        "  if draw_mode:\n",
        "    draw_strokes(strokes, factor)\n",
        "  return strokes"
      ],
      "execution_count": 0,
      "outputs": []
    },
    {
      "metadata": {
        "id": "iD3eNe8JVZs1",
        "colab_type": "code",
        "colab": {
          "base_uri": "https://localhost:8080/",
          "height": 109
        },
        "outputId": "dbcb449a-aa62-47ce-89f6-4b2880439ae2"
      },
      "cell_type": "code",
      "source": [
        "stroke = test_set.random_sample()\n",
        "draw_strokes(stroke)"
      ],
      "execution_count": 49,
      "outputs": [
        {
          "output_type": "display_data",
          "data": {
            "text/plain": [
              "<IPython.core.display.SVG object>"
            ],
            "image/svg+xml": "<svg baseProfile=\"full\" height=\"88.3372983336\" version=\"1.1\" width=\"112.365606092\" xmlns=\"http://www.w3.org/2000/svg\" xmlns:ev=\"http://www.w3.org/2001/xml-events\" xmlns:xlink=\"http://www.w3.org/1999/xlink\"><defs/><rect fill=\"white\" height=\"88.3372983336\" width=\"112.365606092\" x=\"0\" y=\"0\"/><path d=\"M46.8684598058,30.6696005166 m0.0,3.77973377705 l-1.61988586187,1.61988586187 -2.15984791517,0.0 l-1.07992395759,-1.61988586187 -0.539961978793,-2.69980967045 l-0.539961978793,-0.269980989397 -0.539961978793,-1.34990483522 l0.269980989397,-1.61988586187 m0.0,-0.269980989397 l0.0,3.23977172375 0.809942930937,0.809942930937 l0.0,5.66960036755 -0.809942930937,0.539961978793 l-1.07992395759,0.0 -0.539961978793,0.539961978793 l-10.5292582512,0.269980989397 -2.15984791517,-2.15984791517 l0.269980989397,-2.69980967045 2.15984791517,-2.69980967045 l3.5097527504,-0.539961978793 0.809942930937,-1.07992395759 l0.0,-1.07992395759 1.07992395759,-1.88986688852 l0.269980989397,-1.88986688852 4.0497148037,-0.269980989397 l1.07992395759,3.23977172375 0.809942930937,0.539961978793 m-0.809942930937,-2.9697906971 l0.809942930937,-0.539961978793 2.69980967045,-0.269980989397 l1.61988586187,1.61988586187 0.809942930937,2.69980967045 m-18.6286878586,3.77973377705 l-0.809942930937,-0.269980989397 -0.809942930937,0.809942930937 l-0.269980989397,1.07992395759 2.42982879281,0.0 l-1.34990483522,-0.809942930937 m8.09942960739,-6.74952447414 l0.0,0.809942930937 0.539961978793,0.269980989397 l1.07992395759,-0.539961978793 -0.269980989397,-0.539961978793 l-1.88986688852,-0.809942930937 -1.61988586187,0.0 m9.98929619789,8.90937209129 l13.4990489483,0.0 12.959086895,0.539961978793 l4.0497148037,0.809942930937 2.9697906971,1.34990483522 l11.8791627884,2.42982879281 m-47.246670723,-1.34990483522 l-2.15984791517,14.3089914322 0.0,9.44933414459 l0.809942930937,0.539961978793 3.77973377705,-0.809942930937 l2.15984791517,-1.61988586187 1.34990483522,-1.61988586187 l0.0,-8.09942960739 -0.809942930937,-2.42982879281 l-0.809942930937,-1.07992395759 0.269980989397,-2.69980967045 l8.09942960739,0.0 7.55946755409,1.61988586187 l14.5789730549,0.0 0.0,4.31969583035 l-1.34990483522,3.23977172375 0.0,4.31969583035 l-1.07992395759,3.23977172375 0.0,1.34990483522 l5.12963891029,0.269980989397 2.15984791517,-0.539961978793 l2.15984791517,-2.42982879281 1.07992395759,-3.23977172375 l0.0,-10.5292582512 -1.07992395759,-2.15984791517 l-0.269980989397,-1.88986688852 1.34990483522,-0.539961978793 l0.269980989397,-2.15984791517 2.69980967045,0.0 l0.0,-0.539961978793 m-38.6072802544,5.66960036755 l0.539961978793,2.69980967045 0.0,13.2290685177 l-0.269980989397,0.539961978793 -2.69980967045,0.0 l-0.269980989397,-0.539961978793 \" fill=\"none\" stroke=\"black\" stroke-width=\"1\"/></svg>"
          },
          "metadata": {
            "tags": []
          }
        }
      ]
    },
    {
      "metadata": {
        "id": "JxzugMI1f71F",
        "colab_type": "code",
        "colab": {
          "base_uri": "https://localhost:8080/",
          "height": 109
        },
        "outputId": "f78889b4-0880-44ad-8233-fa95d1092589"
      },
      "cell_type": "code",
      "source": [
        "z = encode(stroke)"
      ],
      "execution_count": 50,
      "outputs": [
        {
          "output_type": "display_data",
          "data": {
            "text/plain": [
              "<IPython.core.display.SVG object>"
            ],
            "image/svg+xml": "<svg baseProfile=\"full\" height=\"88.3372983336\" version=\"1.1\" width=\"112.365606092\" xmlns=\"http://www.w3.org/2000/svg\" xmlns:ev=\"http://www.w3.org/2001/xml-events\" xmlns:xlink=\"http://www.w3.org/1999/xlink\"><defs/><rect fill=\"white\" height=\"88.3372983336\" width=\"112.365606092\" x=\"0\" y=\"0\"/><path d=\"M46.8684598058,30.6696005166 m0.0,0.0 l0.0,3.77973377705 -1.61988586187,1.61988586187 l-2.15984791517,0.0 -1.07992395759,-1.61988586187 l-0.539961978793,-2.69980967045 -0.539961978793,-0.269980989397 l-0.539961978793,-1.34990483522 0.269980989397,-1.61988586187 m0.0,-0.269980989397 l0.0,3.23977172375 0.809942930937,0.809942930937 l0.0,5.66960036755 -0.809942930937,0.539961978793 l-1.07992395759,0.0 -0.539961978793,0.539961978793 l-10.5292582512,0.269980989397 -2.15984791517,-2.15984791517 l0.269980989397,-2.69980967045 2.15984791517,-2.69980967045 l3.5097527504,-0.539961978793 0.809942930937,-1.07992395759 l0.0,-1.07992395759 1.07992395759,-1.88986688852 l0.269980989397,-1.88986688852 4.0497148037,-0.269980989397 l1.07992395759,3.23977172375 0.809942930937,0.539961978793 m-0.809942930937,-2.9697906971 l0.809942930937,-0.539961978793 2.69980967045,-0.269980989397 l1.61988586187,1.61988586187 0.809942930937,2.69980967045 m-18.6286878586,3.77973377705 l-0.809942930937,-0.269980989397 -0.809942930937,0.809942930937 l-0.269980989397,1.07992395759 2.42982879281,0.0 l-1.34990483522,-0.809942930937 m8.09942960739,-6.74952447414 l0.0,0.809942930937 0.539961978793,0.269980989397 l1.07992395759,-0.539961978793 -0.269980989397,-0.539961978793 l-1.88986688852,-0.809942930937 -1.61988586187,0.0 m9.98929619789,8.90937209129 l13.4990489483,0.0 12.959086895,0.539961978793 l4.0497148037,0.809942930937 2.9697906971,1.34990483522 l11.8791627884,2.42982879281 m-47.246670723,-1.34990483522 l-2.15984791517,14.3089914322 0.0,9.44933414459 l0.809942930937,0.539961978793 3.77973377705,-0.809942930937 l2.15984791517,-1.61988586187 1.34990483522,-1.61988586187 l0.0,-8.09942960739 -0.809942930937,-2.42982879281 l-0.809942930937,-1.07992395759 0.269980989397,-2.69980967045 l8.09942960739,0.0 7.55946755409,1.61988586187 l14.5789730549,0.0 0.0,4.31969583035 l-1.34990483522,3.23977172375 0.0,4.31969583035 l-1.07992395759,3.23977172375 0.0,1.34990483522 l5.12963891029,0.269980989397 2.15984791517,-0.539961978793 l2.15984791517,-2.42982879281 1.07992395759,-3.23977172375 l0.0,-10.5292582512 -1.07992395759,-2.15984791517 l-0.269980989397,-1.88986688852 1.34990483522,-0.539961978793 l0.269980989397,-2.15984791517 2.69980967045,0.0 l0.0,-0.539961978793 m-38.6072802544,5.66960036755 l0.539961978793,2.69980967045 0.0,13.2290685177 l-0.269980989397,0.539961978793 -2.69980967045,0.0 l-0.269980989397,-0.539961978793 \" fill=\"none\" stroke=\"black\" stroke-width=\"1\"/></svg>"
          },
          "metadata": {
            "tags": []
          }
        }
      ]
    },
    {
      "metadata": {
        "id": "io7xEkFWoDFi",
        "colab_type": "code",
        "colab": {
          "base_uri": "https://localhost:8080/",
          "height": 106
        },
        "outputId": "ec336a2d-0285-4ade-d1a8-5ee8ff0e1428"
      },
      "cell_type": "code",
      "source": [
        "_ = decode(z, temperature=0.9)"
      ],
      "execution_count": 52,
      "outputs": [
        {
          "output_type": "display_data",
          "data": {
            "text/plain": [
              "<IPython.core.display.SVG object>"
            ],
            "image/svg+xml": "<svg baseProfile=\"full\" height=\"85.1993419522\" version=\"1.1\" width=\"96.286256981\" xmlns=\"http://www.w3.org/2000/svg\" xmlns:ev=\"http://www.w3.org/2001/xml-events\" xmlns:xlink=\"http://www.w3.org/1999/xlink\"><defs/><rect fill=\"white\" height=\"85.1993419522\" width=\"96.286256981\" x=\"0\" y=\"0\"/><path d=\"M33.0594833131,32.6566350547 m-0.0556443398818,3.84645849466 l-0.000608822447248,0.407882630825 -1.82386487722,1.19749568403 l-3.0907279253,-0.252527929842 -2.19828560948,-1.36512309313 l-0.646613761783,-0.941495671868 0.0843563117087,-1.7941211164 l2.1894325316,-1.66331484914 2.35883355141,-0.570391863585 l0.247184745967,-2.48856604099 m-0.906792804599,3.25534075499 l0.275241397321,-2.02165871859 0.482361167669,-1.32443606853 l1.69675931334,-1.69250652194 2.36479520798,-0.673191249371 l3.77627909184,5.24035274982 -1.35458305478,1.4369738102 l-3.1022015214,1.53010129929 m-6.51925981045,2.00901135802 l2.45811030269,-1.36165395379 2.47598141432,-0.763812512159 l-0.18186295405,-0.000369259360014 m-2.80097991228,-0.00030178040106 l1.63073465228,-0.801502466202 0.400715507567,-0.202217660844 l0.266361515969,1.76141440868 -1.65457740426,8.5480605776e-05 m-4.43062722683,3.10727715492 l0.969243496656,0.808300301433 1.72352895141,-0.114734387025 l0.506250075996,-0.972630754113 m6.62908375263,-13.2527732849 l0.0193439994473,6.36280238628 2.46148705482,-0.17921956256 l1.38989552855,-3.54576677084 0.000375731397071,-2.55280822515 m-3.38644534349,10.3805208206 l1.00772917271,-2.40201920271 2.93142855167,0.302462354302 l2.17276528478,-1.66769906878 6.54911458492,0.000340155711456 l5.09054422379,0.173460319638 3.06905061007,1.31421819329 l8.00141572952,-0.521559305489 3.63854378462,1.87522232533 l3.51254969835,2.1678455174 0.000352093120455,1.95602789521 l-5.44421851635,3.39531898499 0.450106412172,-8.72369764693e-05 l0.000340889419022,-2.7645227313 -1.23124748468,3.80079299212 l-5.61117589474,1.47146418691 -8.06234061718,4.01640683413 l-3.27565103769,5.23607786818e-05 -1.1971885711,-1.34539440274 l-4.0316644311,-3.91456663609 -1.77283033729,1.91726356745 l-2.57418394089,0.281564872712 -9.17383909225,-2.64091104269 l-1.09023153782,-4.77962613106 2.12188199162,-1.5925565362 m5.08842229843,8.01234900951 l-0.000335215154337,0.385252386332 -1.4478635788,10.2054429054 l0.653216466308,0.751122012734 -0.370613671839,0.994042083621 l-1.00027516484,-0.436180084944 -1.8511235714,0.341066643596 l-0.864332914352,1.87842488289 0.726976692677,1.30535289645 l5.76567649841,0.253442302346 2.40888312459,-7.49872803688 l-0.00112747817184,1.03149868548 0.894105881453,0.341541022062 l-0.000525802461198,-4.56952780485 1.68077304959,-3.17135691643 l0.000331771443598,-4.24886882305 m22.4941825867,-1.42110720277 l4.59042803413e-05,5.93915760517 1.68490171432,5.06025612354 l1.11353583634,1.36646404862 1.6699193418,1.79602742195 l-7.85441219807,-0.00011235410966 1.92980378866,-3.66525560617 l0.690032690763,-6.94459319115 0.925298929214,-2.50591695309 l0.000179296057468,-3.44417095184 \" fill=\"none\" stroke=\"black\" stroke-width=\"1\"/></svg>"
          },
          "metadata": {
            "tags": []
          }
        }
      ]
    },
    {
      "metadata": {
        "id": "svGzaysJoPcC",
        "colab_type": "code",
        "colab": {}
      },
      "cell_type": "code",
      "source": [
        ""
      ],
      "execution_count": 0,
      "outputs": []
    }
  ]
}