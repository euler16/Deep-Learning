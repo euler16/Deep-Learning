{
  "nbformat": 4,
  "nbformat_minor": 0,
  "metadata": {
    "colab": {
      "name": "Untitled0.ipynb",
      "version": "0.3.2",
      "provenance": [],
      "collapsed_sections": [],
      "include_colab_link": true
    },
    "kernelspec": {
      "name": "python2",
      "display_name": "Python 2"
    }
  },
  "cells": [
    {
      "cell_type": "markdown",
      "metadata": {
        "id": "view-in-github",
        "colab_type": "text"
      },
      "source": [
        "[View in Colaboratory](https://colab.research.google.com/github/euler16/Deep-Learning/blob/master/Untitled0.ipynb)"
      ]
    },
    {
      "metadata": {
        "id": "CpAR1TN4-FsM",
        "colab_type": "code",
        "colab": {
          "base_uri": "https://localhost:8080/",
          "height": 1346
        },
        "outputId": "ee1765ca-a82e-4750-e9c8-ec36dcc91a43"
      },
      "cell_type": "code",
      "source": [
        "!pip install svgwrite==1.1.6;\n",
        "!pip uninstall -y tensorflow;\n",
        "!pip uninstall -y magenta;\n",
        "!pip install tensorflow==1.2.1 magenta;\n",
        "\n",
        "import numpy as np\n",
        "import time\n",
        "import random\n",
        "import cPickle\n",
        "import codecs\n",
        "import collections\n",
        "import os\n",
        "import math\n",
        "import json\n",
        "import tensorflow as tf\n",
        "from six.moves import xrange\n",
        "\n",
        "# libraries required for visualisation:\n",
        "from IPython.display import SVG, display\n",
        "import svgwrite # conda install -c omnia svgwrite=1.1.6\n",
        "import PIL\n",
        "from PIL import Image\n",
        "import matplotlib.pyplot as plt\n",
        "\n",
        "\n",
        "from google.colab import files\n",
        "\n",
        "\n",
        "# set numpy output to something sensible\n",
        "np.set_printoptions(precision=8, edgeitems=6, linewidth=200, suppress=True)"
      ],
      "execution_count": 20,
      "outputs": [
        {
          "output_type": "stream",
          "text": [
            "Requirement already satisfied: svgwrite==1.1.6 in /usr/local/lib/python2.7/dist-packages (1.1.6)\r\n",
            "Requirement already satisfied: pyparsing>=2.0.1 in /usr/local/lib/python2.7/dist-packages (from svgwrite==1.1.6) (2.2.0)\n",
            "\u001b[31mmagenta 0.3.9 has requirement tensorflow>=1.8.0, but you'll have tensorflow 1.2.1 which is incompatible.\u001b[0m\n",
            "Uninstalling tensorflow-1.2.1:\n",
            "  Successfully uninstalled tensorflow-1.2.1\n",
            "Uninstalling magenta-0.3.9:\n",
            "  Successfully uninstalled magenta-0.3.9\n",
            "Collecting tensorflow==1.2.1\n",
            "  Using cached https://files.pythonhosted.org/packages/35/9c/1c353f584f90769e7fa41fe5c45ffc8a3032221945e142938e74f5498cb9/tensorflow-1.2.1-cp27-cp27mu-manylinux1_x86_64.whl\n",
            "Collecting magenta\n",
            "  Using cached https://files.pythonhosted.org/packages/ef/39/96c9aee9e10d29b339ea0330c1440e79742c05159cf1ac4c139ee9db0821/magenta-0.3.9-py2.py3-none-any.whl\n",
            "Requirement already satisfied: numpy>=1.11.0 in /usr/local/lib/python2.7/dist-packages (from tensorflow==1.2.1) (1.14.5)\n",
            "Requirement already satisfied: mock>=2.0.0 in /usr/local/lib/python2.7/dist-packages (from tensorflow==1.2.1) (2.0.0)\n",
            "Requirement already satisfied: protobuf>=3.2.0 in /usr/local/lib/python2.7/dist-packages (from tensorflow==1.2.1) (3.6.0)\n",
            "Requirement already satisfied: backports.weakref==1.0rc1 in /usr/local/lib/python2.7/dist-packages (from tensorflow==1.2.1) (1.0rc1)\n",
            "Requirement already satisfied: bleach==1.5.0 in /usr/local/lib/python2.7/dist-packages (from tensorflow==1.2.1) (1.5.0)\n",
            "Requirement already satisfied: wheel in /usr/local/lib/python2.7/dist-packages (from tensorflow==1.2.1) (0.31.1)\n",
            "Requirement already satisfied: six>=1.10.0 in /usr/local/lib/python2.7/dist-packages (from tensorflow==1.2.1) (1.11.0)\n",
            "Requirement already satisfied: html5lib==0.9999999 in /usr/local/lib/python2.7/dist-packages (from tensorflow==1.2.1) (0.9999999)\n",
            "Requirement already satisfied: werkzeug>=0.11.10 in /usr/local/lib/python2.7/dist-packages (from tensorflow==1.2.1) (0.14.1)\n",
            "Requirement already satisfied: markdown>=2.6.8 in /usr/local/lib/python2.7/dist-packages (from tensorflow==1.2.1) (2.6.11)\n",
            "Requirement already satisfied: joblib<0.12 in /usr/local/lib/python2.7/dist-packages (from magenta) (0.11)\n",
            "Requirement already satisfied: pandas>=0.18.1 in /usr/local/lib/python2.7/dist-packages (from magenta) (0.22.0)\n",
            "Requirement already satisfied: scipy>=0.18.1 in /usr/local/lib/python2.7/dist-packages (from magenta) (0.19.1)\n",
            "Requirement already satisfied: python-rtmidi in /usr/local/lib/python2.7/dist-packages (from magenta) (1.1.0)\n",
            "Requirement already satisfied: pretty-midi>=0.2.6 in /usr/local/lib/python2.7/dist-packages (from magenta) (0.2.8)\n",
            "Requirement already satisfied: matplotlib>=1.5.3 in /usr/local/lib/python2.7/dist-packages (from magenta) (2.1.2)\n",
            "Requirement already satisfied: intervaltree>=2.1.0 in /usr/local/lib/python2.7/dist-packages (from magenta) (2.1.0)\n",
            "Requirement already satisfied: futures; python_version == \"2.7\" in /usr/local/lib/python2.7/dist-packages (from magenta) (3.2.0)\n",
            "Requirement already satisfied: IPython in /usr/local/lib/python2.7/dist-packages (from magenta) (5.5.0)\n",
            "Requirement already satisfied: mido==1.2.6 in /usr/local/lib/python2.7/dist-packages (from magenta) (1.2.6)\n",
            "Requirement already satisfied: bokeh>=0.12.0 in /usr/local/lib/python2.7/dist-packages (from magenta) (0.13.0)\n",
            "Requirement already satisfied: mir-eval>=0.4 in /usr/local/lib/python2.7/dist-packages (from magenta) (0.4)\n",
            "Requirement already satisfied: Pillow>=3.4.2 in /usr/local/lib/python2.7/dist-packages (from magenta) (4.0.0)\n",
            "Requirement already satisfied: librosa>=0.6.0 in /usr/local/lib/python2.7/dist-packages (from magenta) (0.6.1)\n",
            "Requirement already satisfied: funcsigs>=1; python_version < \"3.3\" in /usr/local/lib/python2.7/dist-packages (from mock>=2.0.0->tensorflow==1.2.1) (1.0.2)\n",
            "Requirement already satisfied: pbr>=0.11 in /usr/local/lib/python2.7/dist-packages (from mock>=2.0.0->tensorflow==1.2.1) (4.1.0)\n",
            "Requirement already satisfied: setuptools in /usr/local/lib/python2.7/dist-packages (from protobuf>=3.2.0->tensorflow==1.2.1) (39.1.0)\n",
            "Requirement already satisfied: pytz>=2011k in /usr/local/lib/python2.7/dist-packages (from pandas>=0.18.1->magenta) (2018.5)\n",
            "Requirement already satisfied: python-dateutil in /usr/local/lib/python2.7/dist-packages (from pandas>=0.18.1->magenta) (2.5.3)\n",
            "Requirement already satisfied: cycler>=0.10 in /usr/local/lib/python2.7/dist-packages (from matplotlib>=1.5.3->magenta) (0.10.0)\n",
            "Requirement already satisfied: backports.functools-lru-cache in /usr/local/lib/python2.7/dist-packages (from matplotlib>=1.5.3->magenta) (1.5)\n",
            "Requirement already satisfied: subprocess32 in /usr/local/lib/python2.7/dist-packages (from matplotlib>=1.5.3->magenta) (3.5.2)\n",
            "Requirement already satisfied: pyparsing!=2.0.4,!=2.1.2,!=2.1.6,>=2.0.1 in /usr/local/lib/python2.7/dist-packages (from matplotlib>=1.5.3->magenta) (2.2.0)\n",
            "Requirement already satisfied: sortedcontainers in /usr/local/lib/python2.7/dist-packages (from intervaltree>=2.1.0->magenta) (2.0.4)\n",
            "Requirement already satisfied: simplegeneric>0.8 in /usr/local/lib/python2.7/dist-packages (from IPython->magenta) (0.8.1)\n",
            "Requirement already satisfied: pickleshare in /usr/local/lib/python2.7/dist-packages (from IPython->magenta) (0.7.4)\n",
            "Requirement already satisfied: backports.shutil-get-terminal-size; python_version == \"2.7\" in /usr/local/lib/python2.7/dist-packages (from IPython->magenta) (1.0.0)\n",
            "Requirement already satisfied: pathlib2; python_version == \"2.7\" or python_version == \"3.3\" in /usr/local/lib/python2.7/dist-packages (from IPython->magenta) (2.3.2)\n",
            "Requirement already satisfied: pexpect; sys_platform != \"win32\" in /usr/local/lib/python2.7/dist-packages (from IPython->magenta) (4.6.0)\n",
            "Requirement already satisfied: traitlets>=4.2 in /usr/local/lib/python2.7/dist-packages (from IPython->magenta) (4.3.2)\n",
            "Requirement already satisfied: pygments in /usr/local/lib/python2.7/dist-packages (from IPython->magenta) (2.1.3)\n",
            "Requirement already satisfied: decorator in /usr/local/lib/python2.7/dist-packages (from IPython->magenta) (4.3.0)\n",
            "Requirement already satisfied: prompt-toolkit<2.0.0,>=1.0.4 in /usr/local/lib/python2.7/dist-packages (from IPython->magenta) (1.0.15)\n",
            "Requirement already satisfied: packaging>=16.8 in /usr/local/lib/python2.7/dist-packages (from bokeh>=0.12.0->magenta) (17.1)\n",
            "Requirement already satisfied: PyYAML>=3.10 in /usr/local/lib/python2.7/dist-packages (from bokeh>=0.12.0->magenta) (3.13)\n",
            "Requirement already satisfied: Jinja2>=2.7 in /usr/local/lib/python2.7/dist-packages (from bokeh>=0.12.0->magenta) (2.10)\n",
            "Requirement already satisfied: tornado>=4.3 in /usr/local/lib/python2.7/dist-packages (from bokeh>=0.12.0->magenta) (4.5.3)\n",
            "Requirement already satisfied: future in /usr/local/lib/python2.7/dist-packages (from mir-eval>=0.4->magenta) (0.16.0)\n",
            "Requirement already satisfied: olefile in /usr/local/lib/python2.7/dist-packages (from Pillow>=3.4.2->magenta) (0.45.1)\n",
            "Requirement already satisfied: audioread>=2.0.0 in /usr/local/lib/python2.7/dist-packages (from librosa>=0.6.0->magenta) (2.1.6)\n",
            "Requirement already satisfied: numba>=0.38.0 in /usr/local/lib/python2.7/dist-packages (from librosa>=0.6.0->magenta) (0.39.0)\n",
            "Requirement already satisfied: scikit-learn!=0.19.0,>=0.14.0 in /usr/local/lib/python2.7/dist-packages (from librosa>=0.6.0->magenta) (0.19.2)\n",
            "Requirement already satisfied: resampy>=0.2.0 in /usr/local/lib/python2.7/dist-packages (from librosa>=0.6.0->magenta) (0.2.1)\n",
            "Requirement already satisfied: scandir; python_version < \"3.5\" in /usr/local/lib/python2.7/dist-packages (from pathlib2; python_version == \"2.7\" or python_version == \"3.3\"->IPython->magenta) (1.7)\n",
            "Requirement already satisfied: ptyprocess>=0.5 in /usr/local/lib/python2.7/dist-packages (from pexpect; sys_platform != \"win32\"->IPython->magenta) (0.6.0)\n",
            "Requirement already satisfied: enum34; python_version == \"2.7\" in /usr/local/lib/python2.7/dist-packages (from traitlets>=4.2->IPython->magenta) (1.1.6)\n",
            "Requirement already satisfied: ipython-genutils in /usr/local/lib/python2.7/dist-packages (from traitlets>=4.2->IPython->magenta) (0.2.0)\n",
            "Requirement already satisfied: wcwidth in /usr/local/lib/python2.7/dist-packages (from prompt-toolkit<2.0.0,>=1.0.4->IPython->magenta) (0.1.7)\n",
            "Requirement already satisfied: MarkupSafe>=0.23 in /usr/local/lib/python2.7/dist-packages (from Jinja2>=2.7->bokeh>=0.12.0->magenta) (1.0)\n",
            "Requirement already satisfied: singledispatch in /usr/local/lib/python2.7/dist-packages (from tornado>=4.3->bokeh>=0.12.0->magenta) (3.4.0.3)\n",
            "Requirement already satisfied: certifi in /usr/local/lib/python2.7/dist-packages (from tornado>=4.3->bokeh>=0.12.0->magenta) (2018.4.16)\n",
            "Requirement already satisfied: backports_abc>=0.4 in /usr/local/lib/python2.7/dist-packages (from tornado>=4.3->bokeh>=0.12.0->magenta) (0.5)\n",
            "Requirement already satisfied: llvmlite>=0.24.0dev0 in /usr/local/lib/python2.7/dist-packages (from numba>=0.38.0->librosa>=0.6.0->magenta) (0.24.0)\n",
            "\u001b[31mmagenta 0.3.9 has requirement tensorflow>=1.8.0, but you'll have tensorflow 1.2.1 which is incompatible.\u001b[0m\n",
            "Installing collected packages: tensorflow, magenta\n",
            "Successfully installed magenta-0.3.9 tensorflow-1.2.1\n"
          ],
          "name": "stdout"
        }
      ]
    },
    {
      "metadata": {
        "id": "2XZ4TpxO--RD",
        "colab_type": "code",
        "colab": {
          "base_uri": "https://localhost:8080/",
          "height": 34
        },
        "outputId": "586082eb-98c5-4b77-9296-90c5eb706f0a"
      },
      "cell_type": "code",
      "source": [
        "tf.logging.info(\"TensorFlow Version: %s\", tf.__version__)"
      ],
      "execution_count": 21,
      "outputs": [
        {
          "output_type": "stream",
          "text": [
            "INFO:tensorflow:TensorFlow Version: 1.2.1\n"
          ],
          "name": "stdout"
        }
      ]
    },
    {
      "metadata": {
        "id": "G5p45MzRJYUF",
        "colab_type": "code",
        "colab": {}
      },
      "cell_type": "code",
      "source": [
        "#!kill -9 -1"
      ],
      "execution_count": 0,
      "outputs": []
    },
    {
      "metadata": {
        "id": "MzRCn_S-A6uK",
        "colab_type": "code",
        "colab": {}
      },
      "cell_type": "code",
      "source": [
        "# import our command line tools\n",
        "#!pip uninstall -y magenta;\n",
        "#!pip install magenta;\n",
        "\n",
        "from magenta.models.sketch_rnn.sketch_rnn_train import *\n",
        "from magenta.models.sketch_rnn.model import *\n",
        "from magenta.models.sketch_rnn.utils import *\n",
        "from magenta.models.sketch_rnn.rnn import *"
      ],
      "execution_count": 0,
      "outputs": []
    },
    {
      "metadata": {
        "id": "G5tKCbTCKdtO",
        "colab_type": "code",
        "colab": {
          "base_uri": "https://localhost:8080/",
          "height": 34
        },
        "outputId": "a917c9fb-1a93-43ca-bd2a-cba683591613"
      },
      "cell_type": "code",
      "source": [
        "tf.logging.info(\"TensorFlow Version: %s\", tf.__version__)"
      ],
      "execution_count": 24,
      "outputs": [
        {
          "output_type": "stream",
          "text": [
            "INFO:tensorflow:TensorFlow Version: 1.2.1\n"
          ],
          "name": "stdout"
        }
      ]
    },
    {
      "metadata": {
        "id": "dmNvTWyxBA6m",
        "colab_type": "code",
        "colab": {}
      },
      "cell_type": "code",
      "source": [
        "# little function that displays vector images and saves them to .svg\n",
        "count = 0\n",
        "def draw_strokes(data, factor=0.2, svg_filename = '/tmp/sketch_rnn/svg/sample.svg'):\n",
        "  global count\n",
        "  tf.gfile.MakeDirs(os.path.dirname(svg_filename))\n",
        "  min_x, max_x, min_y, max_y = get_bounds(data, factor)\n",
        "  dims = (50 + max_x - min_x, 50 + max_y - min_y)\n",
        "  dwg = svgwrite.Drawing(svg_filename, size=dims)\n",
        "  dwg.add(dwg.rect(insert=(0, 0), size=dims,fill='white'))\n",
        "  lift_pen = 1\n",
        "  abs_x = 25 - min_x \n",
        "  abs_y = 25 - min_y\n",
        "  p = \"M%s,%s \" % (abs_x, abs_y)\n",
        "  command = \"m\"\n",
        "  for i in xrange(len(data)):\n",
        "    if (lift_pen == 1):\n",
        "      command = \"m\"\n",
        "    elif (command != \"l\"):\n",
        "      command = \"l\"\n",
        "    else:\n",
        "      command = \"\"\n",
        "    x = float(data[i,0])/factor\n",
        "    y = float(data[i,1])/factor\n",
        "    lift_pen = data[i, 2]\n",
        "    p += command+str(x)+\",\"+str(y)+\" \"\n",
        "  the_color = \"black\"\n",
        "  stroke_width = 1\n",
        "  dwg.add(dwg.path(p).stroke(the_color,stroke_width).fill(\"none\"))\n",
        "  dwg.save()\n",
        "  #dwg.write(f)\n",
        "  #f.write(SVG(dwg.tostring()))\n",
        "  dwg.save()\n",
        "  files.download(svg_filename)\n",
        "  count += 1\n",
        "  display(SVG(dwg.tostring()))\n",
        "\n",
        "# generate a 2D grid of many vector drawings\n",
        "def make_grid_svg(s_list, grid_space=10.0, grid_space_x=16.0):\n",
        "  def get_start_and_end(x):\n",
        "    x = np.array(x)\n",
        "    x = x[:, 0:2]\n",
        "    x_start = x[0]\n",
        "    x_end = x.sum(axis=0)\n",
        "    x = x.cumsum(axis=0)\n",
        "    x_max = x.max(axis=0)\n",
        "    x_min = x.min(axis=0)\n",
        "    center_loc = (x_max+x_min)*0.5\n",
        "    return x_start-center_loc, x_end\n",
        "  x_pos = 0.0\n",
        "  y_pos = 0.0\n",
        "  result = [[x_pos, y_pos, 1]]\n",
        "  for sample in s_list:\n",
        "    s = sample[0]\n",
        "    grid_loc = sample[1]\n",
        "    grid_y = grid_loc[0]*grid_space+grid_space*0.5\n",
        "    grid_x = grid_loc[1]*grid_space_x+grid_space_x*0.5\n",
        "    start_loc, delta_pos = get_start_and_end(s)\n",
        "\n",
        "    loc_x = start_loc[0]\n",
        "    loc_y = start_loc[1]\n",
        "    new_x_pos = grid_x+loc_x\n",
        "    new_y_pos = grid_y+loc_y\n",
        "    result.append([new_x_pos-x_pos, new_y_pos-y_pos, 0])\n",
        "\n",
        "    result += s.tolist()\n",
        "    result[-1][2] = 1\n",
        "    x_pos = new_x_pos+delta_pos[0]\n",
        "    y_pos = new_y_pos+delta_pos[1]\n",
        "  return np.array(result)"
      ],
      "execution_count": 0,
      "outputs": []
    },
    {
      "metadata": {
        "id": "zb_j0rbfBTlV",
        "colab_type": "code",
        "colab": {
          "base_uri": "https://localhost:8080/",
          "height": 85
        },
        "outputId": "227cc772-cb9e-4861-970e-1715521407de"
      },
      "cell_type": "code",
      "source": [
        "!mkdir sketch_rnn;\n",
        "!mkdir sketch_rnn/models;\n",
        "!mkdir sketch_rnn/models/aaron_sheep;\n",
        "!mkdir sketch_rnn/models/aaron_sheep/layer_norm;\n",
        "\n",
        "\n",
        "data_dir = 'http://github.com/hardmaru/sketch-rnn-datasets/raw/master/aaron_sheep/'\n",
        "models_root_dir = './sketch_rnn/models'\n",
        "model_dir = './sketch_rnn/models/aaron_sheep/layer_norm'"
      ],
      "execution_count": 41,
      "outputs": [
        {
          "output_type": "stream",
          "text": [
            "mkdir: cannot create directory ‘sketch_rnn’: File exists\n",
            "mkdir: cannot create directory ‘sketch_rnn/models’: File exists\n",
            "mkdir: cannot create directory ‘sketch_rnn/models/aaron_sheep’: File exists\n",
            "mkdir: cannot create directory ‘sketch_rnn/models/aaron_sheep/layer_norm’: File exists\n"
          ],
          "name": "stdout"
        }
      ]
    },
    {
      "metadata": {
        "id": "RahfyVP1Da8-",
        "colab_type": "code",
        "colab": {
          "base_uri": "https://localhost:8080/",
          "height": 68
        },
        "outputId": "cff815ae-8e38-46c7-fca3-10a5e6672eb6"
      },
      "cell_type": "code",
      "source": [
        "download_pretrained_models(models_root_dir=models_root_dir)"
      ],
      "execution_count": 42,
      "outputs": [
        {
          "output_type": "stream",
          "text": [
            "INFO:tensorflow:./sketch_rnn/models/sketch_rnn.zip already exists, using cached copy\n",
            "INFO:tensorflow:Unzipping ./sketch_rnn/models/sketch_rnn.zip...\n",
            "INFO:tensorflow:Unzipping complete.\n"
          ],
          "name": "stdout"
        }
      ]
    },
    {
      "metadata": {
        "id": "sYmovA8nDgEy",
        "colab_type": "code",
        "colab": {
          "base_uri": "https://localhost:8080/",
          "height": 153
        },
        "outputId": "24dcf21a-9165-4be8-9e77-b61486efc4d3"
      },
      "cell_type": "code",
      "source": [
        "[train_set, valid_set, test_set, hps_model, eval_hps_model, sample_hps_model] = load_env(data_dir, model_dir)"
      ],
      "execution_count": 43,
      "outputs": [
        {
          "output_type": "stream",
          "text": [
            "INFO:tensorflow:Downloading http://github.com/hardmaru/sketch-rnn-datasets/raw/master/aaron_sheep/aaron_sheep.npz\n",
            "INFO:tensorflow:Loaded 7400/300/300 from aaron_sheep.npz\n",
            "INFO:tensorflow:Dataset combined: 8000 (7400/300/300), avg len 125\n",
            "INFO:tensorflow:model_params.max_seq_len 250.\n",
            "total images <= max_seq_len is 7400\n",
            "total images <= max_seq_len is 300\n",
            "total images <= max_seq_len is 300\n",
            "INFO:tensorflow:normalizing_scale_factor 18.5198.\n"
          ],
          "name": "stdout"
        }
      ]
    },
    {
      "metadata": {
        "id": "fvfg2yYbDq_n",
        "colab_type": "code",
        "colab": {
          "base_uri": "https://localhost:8080/",
          "height": 221
        },
        "outputId": "ddee7857-91b5-47b4-e251-b03cee9ae42c"
      },
      "cell_type": "code",
      "source": [
        "reset_graph()\n",
        "model = Model(hps_model)\n",
        "eval_model = Model(eval_hps_model, reuse=True)\n",
        "sample_model = Model(sample_hps_model, reuse=True)"
      ],
      "execution_count": 44,
      "outputs": [
        {
          "output_type": "stream",
          "text": [
            "INFO:tensorflow:Model using gpu.\n",
            "INFO:tensorflow:Input dropout mode = 0.\n",
            "INFO:tensorflow:Output dropout mode = 0.\n",
            "INFO:tensorflow:Recurrent dropout mode = 1.\n",
            "INFO:tensorflow:Model using gpu.\n",
            "INFO:tensorflow:Input dropout mode = 0.\n",
            "INFO:tensorflow:Output dropout mode = 0.\n",
            "INFO:tensorflow:Recurrent dropout mode = 0.\n",
            "INFO:tensorflow:Model using gpu.\n",
            "INFO:tensorflow:Input dropout mode = 0.\n",
            "INFO:tensorflow:Output dropout mode = 0.\n",
            "INFO:tensorflow:Recurrent dropout mode = 0.\n"
          ],
          "name": "stdout"
        }
      ]
    },
    {
      "metadata": {
        "id": "Vlpf5c5MVB0c",
        "colab_type": "code",
        "colab": {}
      },
      "cell_type": "code",
      "source": [
        "sess = tf.InteractiveSession()\n",
        "sess.run(tf.global_variables_initializer())"
      ],
      "execution_count": 0,
      "outputs": []
    },
    {
      "metadata": {
        "id": "p33eSSkrVIJm",
        "colab_type": "code",
        "colab": {
          "base_uri": "https://localhost:8080/",
          "height": 51
        },
        "outputId": "19515a7a-40c7-440d-ea7b-7850ff27488d"
      },
      "cell_type": "code",
      "source": [
        "load_checkpoint(sess, model_dir)"
      ],
      "execution_count": 46,
      "outputs": [
        {
          "output_type": "stream",
          "text": [
            "INFO:tensorflow:Loading model ./sketch_rnn/models/aaron_sheep/layer_norm/vector.\n",
            "INFO:tensorflow:Restoring parameters from ./sketch_rnn/models/aaron_sheep/layer_norm/vector\n"
          ],
          "name": "stdout"
        }
      ]
    },
    {
      "metadata": {
        "id": "gHJ59jIcVNIM",
        "colab_type": "code",
        "colab": {}
      },
      "cell_type": "code",
      "source": [
        "def encode(input_strokes):\n",
        "  strokes = to_big_strokes(input_strokes).tolist()\n",
        "  strokes.insert(0, [0, 0, 1, 0, 0])\n",
        "  seq_len = [len(input_strokes)]\n",
        "  draw_strokes(to_normal_strokes(np.array(strokes)))\n",
        "  return sess.run(eval_model.batch_z, feed_dict={eval_model.input_data: [strokes], eval_model.sequence_lengths: seq_len})[0]"
      ],
      "execution_count": 0,
      "outputs": []
    },
    {
      "metadata": {
        "id": "UFSzFryZVSiy",
        "colab_type": "code",
        "colab": {}
      },
      "cell_type": "code",
      "source": [
        "def decode(z_input=None, draw_mode=True, temperature=0.1, factor=0.2):\n",
        "  z = None\n",
        "  if z_input is not None:\n",
        "    z = [z_input]\n",
        "  sample_strokes, m = sample(sess, sample_model, seq_len=eval_model.hps.max_seq_len, temperature=temperature, z=z)\n",
        "  strokes = to_normal_strokes(sample_strokes)\n",
        "  if draw_mode:\n",
        "    draw_strokes(strokes, factor)\n",
        "  return strokes"
      ],
      "execution_count": 0,
      "outputs": []
    },
    {
      "metadata": {
        "id": "iD3eNe8JVZs1",
        "colab_type": "code",
        "colab": {
          "base_uri": "https://localhost:8080/",
          "height": 109
        },
        "outputId": "dbcb449a-aa62-47ce-89f6-4b2880439ae2"
      },
      "cell_type": "code",
      "source": [
        "stroke = test_set.random_sample()\n",
        "draw_strokes(stroke)"
      ],
      "execution_count": 49,
      "outputs": [
        {
          "output_type": "display_data",
          "data": {
            "text/plain": [
              "<IPython.core.display.SVG object>"
            ],
            "image/svg+xml": "<svg baseProfile=\"full\" height=\"88.3372983336\" version=\"1.1\" width=\"112.365606092\" xmlns=\"http://www.w3.org/2000/svg\" xmlns:ev=\"http://www.w3.org/2001/xml-events\" xmlns:xlink=\"http://www.w3.org/1999/xlink\"><defs/><rect fill=\"white\" height=\"88.3372983336\" width=\"112.365606092\" x=\"0\" y=\"0\"/><path d=\"M46.8684598058,30.6696005166 m0.0,3.77973377705 l-1.61988586187,1.61988586187 -2.15984791517,0.0 l-1.07992395759,-1.61988586187 -0.539961978793,-2.69980967045 l-0.539961978793,-0.269980989397 -0.539961978793,-1.34990483522 l0.269980989397,-1.61988586187 m0.0,-0.269980989397 l0.0,3.23977172375 0.809942930937,0.809942930937 l0.0,5.66960036755 -0.809942930937,0.539961978793 l-1.07992395759,0.0 -0.539961978793,0.539961978793 l-10.5292582512,0.269980989397 -2.15984791517,-2.15984791517 l0.269980989397,-2.69980967045 2.15984791517,-2.69980967045 l3.5097527504,-0.539961978793 0.809942930937,-1.07992395759 l0.0,-1.07992395759 1.07992395759,-1.88986688852 l0.269980989397,-1.88986688852 4.0497148037,-0.269980989397 l1.07992395759,3.23977172375 0.809942930937,0.539961978793 m-0.809942930937,-2.9697906971 l0.809942930937,-0.539961978793 2.69980967045,-0.269980989397 l1.61988586187,1.61988586187 0.809942930937,2.69980967045 m-18.6286878586,3.77973377705 l-0.809942930937,-0.269980989397 -0.809942930937,0.809942930937 l-0.269980989397,1.07992395759 2.42982879281,0.0 l-1.34990483522,-0.809942930937 m8.09942960739,-6.74952447414 l0.0,0.809942930937 0.539961978793,0.269980989397 l1.07992395759,-0.539961978793 -0.269980989397,-0.539961978793 l-1.88986688852,-0.809942930937 -1.61988586187,0.0 m9.98929619789,8.90937209129 l13.4990489483,0.0 12.959086895,0.539961978793 l4.0497148037,0.809942930937 2.9697906971,1.34990483522 l11.8791627884,2.42982879281 m-47.246670723,-1.34990483522 l-2.15984791517,14.3089914322 0.0,9.44933414459 l0.809942930937,0.539961978793 3.77973377705,-0.809942930937 l2.15984791517,-1.61988586187 1.34990483522,-1.61988586187 l0.0,-8.09942960739 -0.809942930937,-2.42982879281 l-0.809942930937,-1.07992395759 0.269980989397,-2.69980967045 l8.09942960739,0.0 7.55946755409,1.61988586187 l14.5789730549,0.0 0.0,4.31969583035 l-1.34990483522,3.23977172375 0.0,4.31969583035 l-1.07992395759,3.23977172375 0.0,1.34990483522 l5.12963891029,0.269980989397 2.15984791517,-0.539961978793 l2.15984791517,-2.42982879281 1.07992395759,-3.23977172375 l0.0,-10.5292582512 -1.07992395759,-2.15984791517 l-0.269980989397,-1.88986688852 1.34990483522,-0.539961978793 l0.269980989397,-2.15984791517 2.69980967045,0.0 l0.0,-0.539961978793 m-38.6072802544,5.66960036755 l0.539961978793,2.69980967045 0.0,13.2290685177 l-0.269980989397,0.539961978793 -2.69980967045,0.0 l-0.269980989397,-0.539961978793 \" fill=\"none\" stroke=\"black\" stroke-width=\"1\"/></svg>"
          },
          "metadata": {
            "tags": []
          }
        }
      ]
    },
    {
      "metadata": {
        "id": "JxzugMI1f71F",
        "colab_type": "code",
        "colab": {
          "base_uri": "https://localhost:8080/",
          "height": 109
        },
        "outputId": "f78889b4-0880-44ad-8233-fa95d1092589"
      },
      "cell_type": "code",
      "source": [
        "z = encode(stroke)"
      ],
      "execution_count": 50,
      "outputs": [
        {
          "output_type": "display_data",
          "data": {
            "text/plain": [
              "<IPython.core.display.SVG object>"
            ],
            "image/svg+xml": "<svg baseProfile=\"full\" height=\"88.3372983336\" version=\"1.1\" width=\"112.365606092\" xmlns=\"http://www.w3.org/2000/svg\" xmlns:ev=\"http://www.w3.org/2001/xml-events\" xmlns:xlink=\"http://www.w3.org/1999/xlink\"><defs/><rect fill=\"white\" height=\"88.3372983336\" width=\"112.365606092\" x=\"0\" y=\"0\"/><path d=\"M46.8684598058,30.6696005166 m0.0,0.0 l0.0,3.77973377705 -1.61988586187,1.61988586187 l-2.15984791517,0.0 -1.07992395759,-1.61988586187 l-0.539961978793,-2.69980967045 -0.539961978793,-0.269980989397 l-0.539961978793,-1.34990483522 0.269980989397,-1.61988586187 m0.0,-0.269980989397 l0.0,3.23977172375 0.809942930937,0.809942930937 l0.0,5.66960036755 -0.809942930937,0.539961978793 l-1.07992395759,0.0 -0.539961978793,0.539961978793 l-10.5292582512,0.269980989397 -2.15984791517,-2.15984791517 l0.269980989397,-2.69980967045 2.15984791517,-2.69980967045 l3.5097527504,-0.539961978793 0.809942930937,-1.07992395759 l0.0,-1.07992395759 1.07992395759,-1.88986688852 l0.269980989397,-1.88986688852 4.0497148037,-0.269980989397 l1.07992395759,3.23977172375 0.809942930937,0.539961978793 m-0.809942930937,-2.9697906971 l0.809942930937,-0.539961978793 2.69980967045,-0.269980989397 l1.61988586187,1.61988586187 0.809942930937,2.69980967045 m-18.6286878586,3.77973377705 l-0.809942930937,-0.269980989397 -0.809942930937,0.809942930937 l-0.269980989397,1.07992395759 2.42982879281,0.0 l-1.34990483522,-0.809942930937 m8.09942960739,-6.74952447414 l0.0,0.809942930937 0.539961978793,0.269980989397 l1.07992395759,-0.539961978793 -0.269980989397,-0.539961978793 l-1.88986688852,-0.809942930937 -1.61988586187,0.0 m9.98929619789,8.90937209129 l13.4990489483,0.0 12.959086895,0.539961978793 l4.0497148037,0.809942930937 2.9697906971,1.34990483522 l11.8791627884,2.42982879281 m-47.246670723,-1.34990483522 l-2.15984791517,14.3089914322 0.0,9.44933414459 l0.809942930937,0.539961978793 3.77973377705,-0.809942930937 l2.15984791517,-1.61988586187 1.34990483522,-1.61988586187 l0.0,-8.09942960739 -0.809942930937,-2.42982879281 l-0.809942930937,-1.07992395759 0.269980989397,-2.69980967045 l8.09942960739,0.0 7.55946755409,1.61988586187 l14.5789730549,0.0 0.0,4.31969583035 l-1.34990483522,3.23977172375 0.0,4.31969583035 l-1.07992395759,3.23977172375 0.0,1.34990483522 l5.12963891029,0.269980989397 2.15984791517,-0.539961978793 l2.15984791517,-2.42982879281 1.07992395759,-3.23977172375 l0.0,-10.5292582512 -1.07992395759,-2.15984791517 l-0.269980989397,-1.88986688852 1.34990483522,-0.539961978793 l0.269980989397,-2.15984791517 2.69980967045,0.0 l0.0,-0.539961978793 m-38.6072802544,5.66960036755 l0.539961978793,2.69980967045 0.0,13.2290685177 l-0.269980989397,0.539961978793 -2.69980967045,0.0 l-0.269980989397,-0.539961978793 \" fill=\"none\" stroke=\"black\" stroke-width=\"1\"/></svg>"
          },
          "metadata": {
            "tags": []
          }
        }
      ]
    },
    {
      "metadata": {
        "id": "io7xEkFWoDFi",
        "colab_type": "code",
        "colab": {
          "base_uri": "https://localhost:8080/",
          "height": 106
        },
        "outputId": "ec336a2d-0285-4ade-d1a8-5ee8ff0e1428"
      },
      "cell_type": "code",
      "source": [
        "_ = decode(z, temperature=0.9)"
      ],
      "execution_count": 52,
      "outputs": [
        {
          "output_type": "display_data",
          "data": {
            "text/plain": [
              "<IPython.core.display.SVG object>"
            ],
            "image/svg+xml": "<svg baseProfile=\"full\" height=\"85.1993419522\" version=\"1.1\" width=\"96.286256981\" xmlns=\"http://www.w3.org/2000/svg\" xmlns:ev=\"http://www.w3.org/2001/xml-events\" xmlns:xlink=\"http://www.w3.org/1999/xlink\"><defs/><rect fill=\"white\" height=\"85.1993419522\" width=\"96.286256981\" x=\"0\" y=\"0\"/><path d=\"M33.0594833131,32.6566350547 m-0.0556443398818,3.84645849466 l-0.000608822447248,0.407882630825 -1.82386487722,1.19749568403 l-3.0907279253,-0.252527929842 -2.19828560948,-1.36512309313 l-0.646613761783,-0.941495671868 0.0843563117087,-1.7941211164 l2.1894325316,-1.66331484914 2.35883355141,-0.570391863585 l0.247184745967,-2.48856604099 m-0.906792804599,3.25534075499 l0.275241397321,-2.02165871859 0.482361167669,-1.32443606853 l1.69675931334,-1.69250652194 2.36479520798,-0.673191249371 l3.77627909184,5.24035274982 -1.35458305478,1.4369738102 l-3.1022015214,1.53010129929 m-6.51925981045,2.00901135802 l2.45811030269,-1.36165395379 2.47598141432,-0.763812512159 l-0.18186295405,-0.000369259360014 m-2.80097991228,-0.00030178040106 l1.63073465228,-0.801502466202 0.400715507567,-0.202217660844 l0.266361515969,1.76141440868 -1.65457740426,8.5480605776e-05 m-4.43062722683,3.10727715492 l0.969243496656,0.808300301433 1.72352895141,-0.114734387025 l0.506250075996,-0.972630754113 m6.62908375263,-13.2527732849 l0.0193439994473,6.36280238628 2.46148705482,-0.17921956256 l1.38989552855,-3.54576677084 0.000375731397071,-2.55280822515 m-3.38644534349,10.3805208206 l1.00772917271,-2.40201920271 2.93142855167,0.302462354302 l2.17276528478,-1.66769906878 6.54911458492,0.000340155711456 l5.09054422379,0.173460319638 3.06905061007,1.31421819329 l8.00141572952,-0.521559305489 3.63854378462,1.87522232533 l3.51254969835,2.1678455174 0.000352093120455,1.95602789521 l-5.44421851635,3.39531898499 0.450106412172,-8.72369764693e-05 l0.000340889419022,-2.7645227313 -1.23124748468,3.80079299212 l-5.61117589474,1.47146418691 -8.06234061718,4.01640683413 l-3.27565103769,5.23607786818e-05 -1.1971885711,-1.34539440274 l-4.0316644311,-3.91456663609 -1.77283033729,1.91726356745 l-2.57418394089,0.281564872712 -9.17383909225,-2.64091104269 l-1.09023153782,-4.77962613106 2.12188199162,-1.5925565362 m5.08842229843,8.01234900951 l-0.000335215154337,0.385252386332 -1.4478635788,10.2054429054 l0.653216466308,0.751122012734 -0.370613671839,0.994042083621 l-1.00027516484,-0.436180084944 -1.8511235714,0.341066643596 l-0.864332914352,1.87842488289 0.726976692677,1.30535289645 l5.76567649841,0.253442302346 2.40888312459,-7.49872803688 l-0.00112747817184,1.03149868548 0.894105881453,0.341541022062 l-0.000525802461198,-4.56952780485 1.68077304959,-3.17135691643 l0.000331771443598,-4.24886882305 m22.4941825867,-1.42110720277 l4.59042803413e-05,5.93915760517 1.68490171432,5.06025612354 l1.11353583634,1.36646404862 1.6699193418,1.79602742195 l-7.85441219807,-0.00011235410966 1.92980378866,-3.66525560617 l0.690032690763,-6.94459319115 0.925298929214,-2.50591695309 l0.000179296057468,-3.44417095184 \" fill=\"none\" stroke=\"black\" stroke-width=\"1\"/></svg>"
          },
          "metadata": {
            "tags": []
          }
        }
      ]
    },
    {
      "metadata": {
        "id": "svGzaysJoPcC",
        "colab_type": "code",
        "colab": {
          "base_uri": "https://localhost:8080/",
          "height": 119
        },
        "outputId": "679fe242-31a3-4fe8-d36b-fd23446fbaaa"
      },
      "cell_type": "code",
      "source": [
        "stroke_list = []\n",
        "for i in range(10):\n",
        "  stroke_list.append([decode(z, draw_mode=False, temperature=0.05*i+0.1), [0, i]])\n",
        "stroke_grid = make_grid_svg(stroke_list)\n",
        "draw_strokes(stroke_grid)"
      ],
      "execution_count": 54,
      "outputs": [
        {
          "output_type": "display_data",
          "data": {
            "text/plain": [
              "<IPython.core.display.SVG object>"
            ],
            "image/svg+xml": "<svg baseProfile=\"full\" height=\"97.779759214\" version=\"1.1\" width=\"831.782677986\" xmlns=\"http://www.w3.org/2000/svg\" xmlns:ev=\"http://www.w3.org/2001/xml-events\" xmlns:xlink=\"http://www.w3.org/1999/xlink\"><defs/><rect fill=\"white\" height=\"97.779759214\" width=\"831.782677986\" x=\"0\" y=\"0\"/><path d=\"M25,25 m0.0,0.0 m26.781958576,24.8774016077 l0.0182922009844,3.89984697104 -1.89072728157,1.90074965358 l-2.21440583467,0.000562942805118 -1.62690252066,-1.9911506772 l-0.584572777152,-2.69737780094 1.11766412854,-2.10158631206 l2.04097479582,-1.13239839673 -0.774742513895,0.000218749064516 l-5.40345013142,1.70717343688 -2.89224356413,-0.444658733904 l-2.23044216633,-1.79370209575 -1.13341674209,-2.92201042175 l0.940493568778,-2.96011447906 2.37803176045,-2.17276111245 l3.1775867939,-1.10506743193 2.29691654444,5.3398844102e-05 l2.60606199503,1.2580743432 1.86919912696,2.39659845829 l-0.490328222513,4.74621385336 -1.87562227249,2.84437179565 l-3.00363630056,1.79069712758 -3.85184705257,0.000186497036339 l-1.23025037348,-0.938174128532 -1.19193986058,-2.82438904047 l0.000150527994265,-2.67579168081 0.719870850444,-1.24572135508 l2.14006856084,-1.25438466668 m-0.79734057188,-2.10662379861 l-0.241504944861,0.000116799528769 -0.298242382705,0.0854539498687 l0.378683134913,-0.236876625568 -0.00312074873364,-0.153916338459 l-0.197669565678,0.00107148749521 0.147575205192,-0.021352218464 l-0.0928280409425,-0.083712823689 0.0175935402513,-0.0255275517702 l0.0962330400944,-0.14768127352 -0.0956670567393,-0.0183111359365 m-0.629528462887,3.09825092554 l0.935467556119,0.000197254266823 0.894098952413,-0.523682944477 l-0.20277550444,-8.84339260665e-05 m2.7407810092,1.3433791697 l4.63668435812,-0.799115821719 7.13933289051,-0.887108519673 l7.90814101696,-1.30863010883 8.6245650053,-1.33964926004 l8.58506500721,-0.199921838939 7.49449789524,1.50742977858 l3.02369505167,2.31122195721 1.71646475792,3.69862496853 l-0.000101983541754,4.95802789927 -2.06942722201,3.29651176929 l-4.04634773731,2.4472270906 -3.55478644371,0.964614674449 l-10.2627849579,0.681937485933 -10.5915093422,-1.62719964981 l-3.93500477076,-2.10098594427 -2.98148691654,-2.67083913088 l-4.46086406708,-5.27093470097 -0.705609247088,-2.62838959694 l0.4340191558,-1.23110756278 1.10470406711,-0.857879817486 m7.59994149208,10.9976673126 l-0.000239053460973,7.10012316704 0.382852442563,2.28941872716 l0.000178775371751,3.95441681147 0.576618872583,1.79174467921 l1.16572856903,1.06788299978 1.55512556434,0.215923730284 l1.40702754259,-0.951547250152 1.03843420744,-2.02588111162 l-0.000229034394579,-8.03915917873 -1.14341601729,-4.84930038452 l0.000444164215878,-2.00353458524 m19.7470104694,1.82619914412 l1.10845252872,8.77868592739 1.05727009475,3.28009605408 l1.49072960019,2.01552882791 1.73834457994,0.729995518923 l1.98037296534,0.00012803019672 1.60349443555,-1.30159646273 l1.11671254039,-2.25822225213 -0.000124557718664,-6.51294529438 l-2.060726583,-5.67088842392 -1.38842329383,-1.93336963654 m43.6698861683,6.96588027114 l-0.000409786916862,3.88390958309 -1.90973997116,1.99684739113 l-2.08820477128,0.000596189893258 -1.53490126133,-1.89096197486 l-0.62819711864,-2.79571980238 1.89363038317e-05,-1.19687385857 l1.29698291421,-1.51788413525 2.19321101904,-0.73973312974 l-0.770107060671,0.000267735995294 -5.35436213017,1.33056178689 l-2.88477957249,-0.79680390656 -2.10280552506,-2.17161640525 l-0.436617359519,-1.73984229565 1.26043662429,-2.60198533535 l2.73693144321,-2.00342521071 1.16919435561,0.000275657366728 l1.79332837462,1.08732581139 1.5936923027,2.28094398975 l0.466253757477,3.05239140987 -0.654217600822,1.21905758977 l-1.91915005445,0.00045578879508 -1.08023941517,-0.89992031455 l-0.000299783005175,-1.94893464446 0.786997228861,-1.17265611887 l2.0481993258,-0.863553658128 1.37416914105,-0.000109415623228 l-0.00040383922169,1.53881937265 -1.52251750231,1.48577526212 l-2.42731332779,0.000274412068393 -1.06601335108,-0.943622887135 m0.396541021764,-1.22459575534 l2.20921859145,-1.38569891453 2.46496960521,0.000199128971872 l1.91901758313,1.11184239388 1.27986609936,2.09285125136 l-0.226279459894,2.5858977437 -2.14938610792,1.64577096701 l-3.18024516106,0.0280478247441 -2.7652284503,-1.84388160706 l-0.796753764153,-1.2700805068 -0.000196925557248,-1.79530665278 m0.777853578329,-0.281378030777 l-0.000383927908842,1.04287102818 0.449594445527,-0.299813896418 l-0.287584234029,-0.566137656569 -0.521674565971,9.07384583115e-05 m-4.03601914644,3.92268955708 l3.3515766263,0.795010775328 2.87063986063,-6.02589580012e-05 m1.67843535542,-2.96935200691 l0.272750295699,1.16343431175 2.07406952977,2.64957010746 l2.23275080323,1.06293350458 2.4865205586,0.0443557323888 l2.09981739521,-1.01857297122 2.89737015963,-3.25725734234 l2.54555583,1.39235764742 6.47332310677,1.2609179318 l8.04677307606,-1.61374717951 7.75474250317,-3.38898897171 l4.26026016474,-4.59788054228 1.20364174247,-4.07091766596 l-1.60881474614,-3.52571249008 -4.57574039698,-3.020619452 l-10.486779213,-0.561735145748 -5.21797597408,1.45379140973 l-4.51867759228,2.84691333771 -7.55717158318,3.57426285744 l-5.94658017159,3.37248176336 -4.88082408905,2.46971547604 l-1.41494482756,2.13095888495 -0.207535475492,1.27642333508 l0.961345434189,4.19569096266e-05 0.0330992834643,1.27267748117 l0.766669511795,1.76306679845 0.0179634464439,2.64720052481 l1.5793775022,1.64594531059 3.14507335424,2.21359476447 l6.03142142296,2.21321925521 1.91649347544,0.300742629915 m2.26634293795,-8.33592534065 l-9.8815844467e-05,3.83707851171 0.000177943420567,7.90312469006 l0.807274281979,2.15631023049 0.222249869257,0.0549958460033 l-0.0915476214141,-8.35265278816 -0.723753198981,-4.29390609264 m70.0719598234,-7.57502195049 l0.017535877414,3.91219854355 -1.81435763836,1.78237438202 l-2.26932927966,0.273879300803 -2.00583145022,-1.69228866696 l-0.867440849543,-1.63785025477 -2.89620970761e-05,-1.04299113154 l1.36498823762,-1.81903138757 2.53603488207,-1.00584201515 l-0.409264713526,0.00029285909477 -1.55807718635,-0.0713431881741 l-5.51731407642,-0.258242134005 -2.6859626174,-1.63691863418 l-1.9353865087,-2.61874228716 -0.240055155009,-2.90652394295 l1.71692416072,-2.26584643126 3.15495610237,-1.37483686209 l2.93609768152,0.000133619960252 2.17835411429,1.39403536916 l1.49577736855,2.43372231722 0.230584833771,3.6334374547 l-0.612368769944,1.36375546455 -2.44311407208,1.55427083373 m-4.44685459137,-7.13839232922 l-0.298223812133,-0.429527461529 -0.0422003120184,-1.92054152489 l0.783604457974,-0.849695056677 1.25494226813,9.31139948079e-05 l0.773026496172,1.66687905788 -0.270055085421,2.12297335267 l-1.11484251916,0.905589237809 -1.88511326909,0.000106774496089 m-0.533555224538,-0.253753773868 l-9.43855047808e-05,-0.796924456954 0.283753145486,8.43341877044e-05 l-6.56732345305e-05,0.638837218285 -0.285474732518,-0.101189436391 l-0.0186198018491,-0.301286932081 m-3.57060194016,5.1020616293 l2.40408852696,0.000356268355972 2.86528855562,-1.31680771708 l0.782800912857,-1.20712138712 m-0.156768523157,-1.74777880311 l3.90609443188,-1.9845059514 6.23725056648,-2.59131193161 l6.98164880276,-0.862578302622 9.06788229942,0.179595723748 l6.56942427158,1.4667236805 6.25306844711,2.46833726764 l2.91880548,2.25451901555 2.70338207483,5.30278325081 l-9.05465185497e-05,3.78441184759 -0.868909657001,2.29368492961 l-2.88500070572,2.58817821741 -4.8582392931,1.56828552485 l-10.2135360241,0.511412397027 -10.1875936985,-1.79317161441 l-7.08357810974,-4.94379520416 -4.94616985321,-5.23404955864 l-1.01859822869,-3.1557688117 -0.000196220462385,-0.858892947435 l0.798815190792,-0.825469642878 1.28235250711,-0.741628482938 l2.27361306548,0.000375286217604 1.63210779428,-1.05005145073 l4.31157082319,-2.82980203629 3.41008752584,0.000677791249473 l5.04973769188,2.40931361914 0.871215313673,0.971709564328 l2.22475975752,2.46837183833 3.49726676941,3.1595569849 l0.000462168682134,1.1485221982 -2.80711859465,0.56730799377 l-1.66029691696,-1.2177824229 -0.8825211972,-2.11934924126 l-0.387024730444,-3.97224664688 1.7114199698,-2.87361085415 l3.61754149199,-1.72508642077 3.32680135965,0.000242997775786 l2.7698263526,1.36288523674 1.86040997505,2.18662142754 l0.000350494810846,0.926880687475 -1.50257691741,0.000215242034756 l1.51531383395,-3.22599500418 1.54973745346,-1.2826089561 l4.71573472023,1.51988238096 2.2718270123,1.534704566 l0.000282834535028,0.782594829798 -0.686681866646,-0.75428634882 l0.479448251426,-1.4074575901 3.06226819754,-1.64334133267 l2.81813085079,1.43061151903e-05 2.3797544837,1.2488014251 l1.44921883941,1.9862228632 -1.52205482125,1.18047639728 l0.0600759964436,-0.456930063665 1.52503445745,0.753057152033 l1.2246606499,1.74929574132 m-25.660545826,12.1281635761 l-2.05680042505,9.30631458759 -0.143157923594,4.32658225298 l2.90772140026,-0.130367372185 2.24362626672,-1.31554707885 l1.25326350331,-2.05632805824 0.270327497274,-8.18464159966 m77.1316410629,-13.9881042591 l0.00748370948713,3.90084683895 -1.0132868588,1.21456481516 l-3.25469136238,0.000438701972598 -1.51677682996,-1.77265718579 l-0.627436041832,-2.61396437883 1.41038909554,-2.0832875371 l1.47261843085,-0.802702307701 2.25676238537,0.323978066444 l0.882802158594,2.30590119958 -1.09784096479,1.60025626421 l-3.55619043112,1.25034436584 -3.87471407652,-0.5644614622 l-2.10061088204,-2.33303844929 -1.16943903267,-3.30328583717 l0.511687807739,-1.15572318435 2.3823569715,-0.960826650262 l3.08003097773,0.211261883378 1.73408284783,1.53406068683 l0.738960430026,2.36689776182 -0.388239733875,1.34457334876 l-3.06215256453,0.00050251812354 -1.07687488198,-0.985984429717 l-0.000120119320854,-1.75654858351 0.909762829542,-0.858102440834 l2.22682505846,0.000102736476038 1.64744004607,2.15991765261 l-1.86071619391,3.88411194086 -2.53992110491,0.972827002406 l-3.54771107435,0.000308326998493 -2.57771104574,-2.48600751162 l1.56705707312,-3.59625101089 2.88931906223,-1.6463072598 l4.80684936047,0.0863473024219 1.96113154292,1.7357647419 l0.88613435626,3.50634992123 -1.39467865229,3.16348642111 l-3.27190309763,1.46102502942 -3.91237854958,-0.764152184129 l-3.13439130783,-2.93798148632 -0.849236696959,-2.85871326923 l4.19485419989,-1.76556915045 6.46326005459,1.61757722497 l2.28020176291,2.34365165234 0.371343754232,3.24553310871 l-2.66283363104,2.00486630201 -4.8329564929,0.185158476233 l-4.37325507402,-2.14260280132 -2.83246606588,-5.07772147655 l4.77455824614,-2.63343364 5.07508337498,0.125411786139 l3.70490163565,2.11509525776 2.19136968255,3.59084963799 l-3.40416789055,4.1262191534 -5.13284027576,1.12027004361 l-7.44098901749,-8.02942037582 -0.361436419189,-4.25634950399 l3.43483805656,-2.11271435022 7.98335134983,1.02560572326 l4.41983401775,3.19180637598 1.11444711685,3.4976118803 l-2.10475951433,2.83017247915 -4.63194310665,1.19230851531 l-4.95242655277,-1.38323426247 -2.50932276249,-3.11212539673 l2.31249734759,-4.7936013341 6.04752659798,-1.67287319899 l8.05147230625,2.01338782907 2.67893791199,3.20937812328 l0.413173362613,4.04136270285 -3.71064513922,2.60466426611 l-5.7807135582,0.0340539170429 -4.5183506608,-2.52841085196 l1.61339908838,-4.55409049988 4.9417039752,-1.95842906833 l8.38249325752,1.45077556372 3.04809510708,2.92461425066 l0.597596913576,3.99513214827 -3.08701366186,3.32118839025 l-5.93235552311,0.76355420053 -7.67143964767,-2.11425870657 l-1.53023853898,-3.136292696 4.07793402672,-2.94912546873 l5.51742434502,0.2095904015 3.86227071285,2.22706049681 l1.50001063943,3.03000152111 -1.50530964136,3.06027591228 l-4.55714315176,1.2606716156 -10.7825875282,-1.23364746571 l-2.64627963305,-2.41153120995 1.93503797054,-3.47434908152 l4.93147015572,-1.00825957954 6.95409655571,2.04535007477 l1.86131641269,2.88722872734 -0.858810991049,3.26349824667 l-3.63043159246,2.06321582198 -4.66518372297,-0.268850326538 l-3.02304446697,-2.67341017723 0.852175951004,-3.77491027117 l3.87410104275,-2.07672208548 m-6.53647959232,5.38695693016 l-7.81282186508,5.98611235619 -3.55142861605,5.33356189728 l-0.981140583754,3.34677249193 3.86729478836,-0.47218605876 l4.79175835848,-8.51901769638 1.26037314534,-3.29539895058 m82.7163324097,-5.38625903968 l-0.00340480619343,3.88269782066 -1.92816823721,1.87604084611 l-2.08064243197,0.000665742481942 -1.79344177246,-2.06124991179 l-0.602426305413,-1.80086761713 0.570836402476,-1.99322506785 l1.84286698699,-1.44115403295 -2.09806770086,3.47895622253 l-2.87945985794,1.37890964746 -3.19007724524,-0.286019537598 l-1.87675848603,-2.23958805203 -0.244212951511,-2.91468173265 l1.61373585463,-2.75228708982 2.71133989096,-2.23229259253 l0.667043030262,0.0004325768532 -0.75505644083,0.710850730538 l-1.64006099105,-0.9344419837 -1.43863558769,-2.71448999643 l0.323515422642,-2.95757293701 1.80484607816,-1.74069240689 l3.32755893469,-0.945154726505 1.64816647768,0.000266213082796 l2.39870905876,1.49728432298 1.73919841647,2.96763002872 l1.0027075632e-05,2.01362922788 -1.34127825499,2.23539277911 l-1.22947469354,0.913942232728 -2.67549544573,7.85515112511e-05 l-2.33217909932,-2.06153914332 -0.998365804553,-3.20823788643 l0.3903150931,-1.61042645574 2.61097222567,-1.88464537263 l3.74927639961,-0.564401708543 3.11281651258,0.924818217754 l2.19131976366,2.53058195114 -2.0100812614,5.07770717144 l-2.94115811586,1.50409132242 -3.60702365637,-0.647343322635 l-1.13359101117,-1.65545135736 -0.000321969891957,-2.29589104652 l2.5393679738,-2.87851572037 4.27252620459,-1.61740392447 l5.50444066525,1.42380222678 2.7846544981,2.91646629572 l0.328098013997,3.69995564222 -2.81853586435,2.64958530664 l-4.20127570629,0.724267587066 -1.66778504848,-1.30442023277 l-0.687029138207,-3.57273697853 3.9838591218,-4.3327113986 l4.87412333488,-1.033231318 4.82373684645,1.18433944881 l2.09957912564,3.50437134504 -0.107688521966,4.81151133776 l-2.85873502493,2.82221823931 -5.08994817734,1.20688460767 l-5.20878732204,-1.22965171933 -1.18685029447,-3.17624509335 l1.66072010994,-3.39626401663 12.5344479084,-0.676086992025 l3.57266277075,2.33255639672 0.999699756503,3.48351866007 l-1.19438834488,2.05038502812 -4.43119823933,1.93485453725 l-9.97512280941,0.613487102091 -3.34243476391,-1.56260892749 l4.67633098364,-5.01336991787 6.73283219337,-1.5272384882 l8.78760814667,0.826422050595 3.08748006821,2.89399325848 l-2.47069850564,6.49118840694 -3.04469525814,1.3249309361 l-10.3242087364,0.639305636287 -5.09409546852,-1.9000557065 l-1.52193248272,-3.21594625711 4.30368721485,-6.59319698811 l5.24006485939,-1.92025497556 6.76301181316,1.30176201463 l1.52634099126,2.87638127804 -4.72402721643,5.76867103577 l-8.24964165688,2.37660065293 -4.87322688103,-1.15440241992 l-1.95919975638,-2.7131152153 0.740124210715,-4.18062925339 l4.50274825096,-2.9432669282 5.57832837105,-0.60965385288 l3.69358181953,3.10223072767 -2.23823368549,5.35544455051 l-2.44976490736,1.18219397962 -9.33849751949,-0.716050937772 l-3.24129581451,-2.33636170626 1.45591393113,-3.7936732173 l4.06636029482,-2.63174414635 5.63419103622,0.372455380857 m-5.65041840076,13.9672970772 l-1.46999672055,2.24101960659 -5.12634575367,6.73507511616 l-3.32187354565,2.63029068708 0.837244391441,0.000245312312472 l4.25097107887,-1.27475500107 2.2002710402,-1.50689795613 l1.46189957857,-1.68076425791 2.18014329672,-3.4571531415 m12.851113081,-2.39689856768 l-3.46645116806,7.88763940334 -1.79883494973,2.88441061974 l0.857176855206,2.05110131901e-05 3.50774437189,-2.90960669518 l2.09721729159,-3.97191017866 -0.235995631665,-4.52786564827 m69.5309193999,-9.74961856 l0.0015881624131,3.88145625591 -2.0852561295,1.82126045227 l-1.6080763936,0.000839838467073 -1.98055461049,-1.69750466943 l-0.956946387887,-2.66599744558 0.268883276731,-1.46062895656 l1.37131437659,-0.91033436358 1.85864180326,0.112445028499 l0.27743883431,1.92746624351 -1.02152355015,1.41812592745 l-3.46723139286,0.841620415449 -3.46096336842,-1.17522366345 l-1.21704563498,-1.18165358901 -1.01728372276,-3.08291912079 l0.444188453257,-2.3641616106 0.643932744861,0.000301447544189 l0.30970659107,0.698670297861 -0.0293013919145,1.72597184777 l-1.94570943713,2.63784229755 -3.25213074684,1.11818954349 l-1.65955662727,-0.33891338855 -2.27718025446,-2.78638720512 l-1.28417596221,-4.63534444571 0.233097039163,-1.45041957498 l2.28830814362,-1.81518122554 3.6319488287,-1.32528871298 l2.63859987259,0.18720805645 2.35855668783,1.54567778111 l0.894642919302,3.23603212833 -0.27516881004,1.34713485837 l-1.79710164666,1.20665118098 -3.00644278526,-0.8466950804 l-1.86641186476,-4.15135681629 0.406420975924,-3.15373390913 l2.85729169846,-2.10224628448 4.92073476315,-0.686227679253 l3.88283550739,1.10850840807 2.55980193615,2.44219601154 l0.946644470096,3.29672664404 -1.21945030987,2.91947573423 l-2.9559212923,1.43898174167 -3.28469395638,-3.85740578175 l-0.459379144013,-2.36809194088 4.30508315563,-2.1399359405 l4.53113257885,0.891537964344 5.3942656517,5.3834861517 l-6.58496022224,7.74239361286 -2.14144542813,-4.40873920918 l3.20516198874,-4.49157476425 4.99174952507,-1.02031439543 l5.72370648384,3.98592323065 -1.07587233186,6.44657254219 l-3.35220843554,3.53996127844 -4.86905306578,1.65179029107 l-4.19185936451,-3.82041573524 -0.281774252653,-4.43271100521 l3.22859823704,-3.47131878138 4.72205966711,-1.03621765971 l7.41912543774,2.59099543095 1.76276892424,4.04631704092 l-4.83365863562,6.17137134075 -8.1187158823,2.61263638735 l-5.38067758083,-4.51982915401 -0.723807141185,-4.06117141247 l2.42406025529,-2.92347460985 6.59771203995,-0.912833884358 l3.12462061644,1.77758306265 0.975208804011,3.67788910866 l-1.78742200136,4.25597131252 -4.3857884407,1.73324808478 l-4.05171722174,-1.40685781837 -2.17172786593,-4.01730835438 l3.70909810066,-4.0269947052 5.49021661282,-0.24565236643 l3.66545557976,1.30558803678 0.867660865188,2.2072045505 l-1.20345249772,2.81702190638 -3.41471016407,1.80138751864 l-3.67021262646,-0.791142806411 -2.58914619684,-3.08917611837 l1.29575058818,-3.40467095375 4.13361310959,-1.11922636628 l5.06879210472,1.9426099956 -0.892410352826,4.55165147781 l-10.7782685757,-1.11784249544 -1.64421498775,-2.95825630426 l2.74696916342,-1.93694502115 4.60578948259,0.0693810777739 l1.94519937038,4.70318257809 -3.45435619354,1.20119422674 l-5.02481758595,-3.19260507822 0.944875106215,-2.23895862699 l3.76251548529,0.915409848094 0.31674683094,3.68158787489 m1.60836905241,2.71083205938 l-1.83445498347,6.43723547459 -2.17842683196,5.73902964592 l0.108132492751,-1.25581279397 2.42373034358,-7.16767191887 l2.08365604281,-1.90433427691 m13.496171236,1.96005478501 l0.683838054538,8.53475868702 1.72046467662,-1.03801734746 l0.945289283991,-6.22511565685 -0.507465787232,-1.59119606018 l0.00718273746315,2.99154430628 m80.6796168633,-13.4429816164 l0.00911444018129,3.89542400837 -1.03112109005,0.919716507196 l-3.01732838154,0.000476492095913 -1.57192215323,-1.58530801535 l-0.753924995661,-1.67611688375 -0.000163156255439,-0.938756838441 l1.13704375923,-1.01840779185 -0.18580717966,0.000250100638368 l-1.08021758497,0.0511112995446 -4.44129645824,1.71935006976 l-2.21073701978,-2.28663593531 -0.413832888007,-3.43602210283 l1.03598222136,-1.81738674641 2.79541194439,-1.51049628854 l1.70350760221,0.000290874886559 1.80425643921,1.16378389299 l-0.855810344219,-0.666503533721 -1.31841629744,-2.29705259204 l-0.505692735314,-2.15722441673 0.334698967636,-1.21405430138 l1.83099061251,-0.897232890129 1.45208999515,0.36912959069 l1.88662499189,2.18273177743 -0.643970444798,3.60113531351 m-3.03629100323,10.6117224693 l-1.29391059279,3.60427290201 -0.637698620558,4.69660997391 l-0.631938278675,6.25662863255 -0.584189072251,0.283199511468 l-1.63579851389,-1.63417726755 -1.29290640354,-2.6059281826 l-0.600520446897,-7.49356925488 0.000140460469993,-0.692330524325 l0.462345965207,-0.767995789647 1.32419735193,-0.0919498130679 l0.000325708570017,2.73003965616 -1.12006023526,2.81598091125 l-1.9537332654,2.72705227137 -2.08679392934,1.71463012695 l-0.161148328334,1.72232180834 1.15259207785,0.000108228523459 l3.70868444443,-4.76551741362 1.03722281754,-4.55972731113 l1.27866640687,-3.33672434092 0.742206126451,-2.40329191089 l0.226019080728,0.000329821341438 1.70158445835,0.713841542602 l-0.295808855444,1.03213302791 -3.88773053885,5.08331656456 l-2.15873584151,4.48934078217 0.871186256409,1.4981263876 l1.21069043875,0.000152409984366 2.78182387352,-3.74183446169 l2.70910590887,-6.23017907143 -0.895131751895,4.29278969765 l-0.320718884468,4.68103349209 2.43275284767,-1.39031976461 l5.76526999474,-8.72831881046 -0.26691718027,5.77208280563 l0.937612205744,2.44576260448 0.955891162157,-1.05863437057 l4.25990015268,-4.80911374092 0.238381642848,3.45919847488 l-0.45005004853,6.61578118801 2.87912845612,-5.4996317625 l5.6768321991,-9.22323286533 0.851094424725,-3.06987851858 l0.135704958811,-3.78263503313 -0.909876078367,-0.313087776303 l-5.10368287563,2.20574647188 -5.15191197395,2.42308616638 l-3.43284934759,1.99910461903 -2.62210577726,2.49734729528 l-3.07362437248,1.33680164814 -6.89239621162,-0.250188354403 l-6.28444433212,-3.37813168764 -6.83410584927,-4.51493442059 l-5.4107183218,-3.48584443331 -6.26627504826,-4.23522174358 l-8.40882301331,-2.21771612763 -6.87179982662,0.271747801453 l-2.79879420996,1.70873865485 -2.11684718728,2.43069529533 l-2.28961750865,4.70756053925 0.00012556335605,2.29733362794 l1.67783334851,1.88149005175 5.06417632103,1.00504249334 l11.8835568428,0.000462863354187 11.6079878807,-3.15243393183 l3.67454081774,-2.32779383659 2.39188537002,-3.29421550035 l1.0255292058,-1.87997445464 -0.369910337031,-1.26499071717 l-5.08949458599,-1.26470461488 -11.0978507996,-0.203721858561 l-4.62053865194,1.46514236927 -3.62179279327,3.415774405 l-2.15929925442,5.33661842346 7.69867777824,2.38176047802 l7.13896214962,-1.98615968227 m0.583818368614,1.46444261074 l0.292554181069,1.71737492085 m77.368801217,3.2537221215 l-0.00259924330749,3.90361905098 -1.89478799701,1.80701807141 l-2.4593219161,0.210980325937 -0.977621152997,-0.848126709461 l-0.678687617183,-1.21218368411 0.119347115979,-1.01098895073 l1.01930215955,-1.34334310889 0.000168763835973,-1.88464507461 l-1.24014809728,-2.88668394089 0.0292518059723,-2.46730595827 l1.06997944415,-1.17210373282 -1.98069036007,1.09648868442 l-1.21038861573,1.94226920605 -2.46608152986,-7.61059618526e-05 l-1.59006536007,-1.45085722208 -0.53779926151,-1.85197040439 l-2.63412357526e-05,-1.17833457887 1.06064274907,-2.28771954775 l2.27956593037,-2.25571319461 1.65249332786,9.99109033728e-05 l-7.12598148311e-05,-1.26333996654 1.87558069825,-1.72229290009 l4.31095004082,-2.22216337919 0.253408141434,0.000403273843403 l0.594521090388,-0.426979251206 2.23185658455,0.0220991461538 l1.30740076303,3.65292042494 0.000275060065178,6.07474863529 l-1.55624523759,2.19864979386 -2.29881346226,1.36979982257 l-4.84050601721,1.57375648618 -3.01792263985,-0.891094729304 l-2.24428981543,-1.75872370601 -1.18914976716,-3.18049460649 l0.000414383757743,-2.98528015614 m6.15223348141,-4.80507254601 l-0.000131514989334,0.413050316274 0.429316982627,-0.337750762701 l0.0152537995018,-0.330682359636 m1.01930893958,2.05178305507 l-0.333502143621,0.274310186505 0.80751247704,0.128993308172 m-0.865861698985,-2.98060148954 l2.86211341619,-1.10312223434 2.97164469957,3.79153061658e-05 l6.64359986782,0.742470249534 6.47542595863,0.0889832433313 l10.2496373653,0.000139406938615 9.37756240368,1.22153580189 l1.51536494493,0.739652365446 3.63380372524,4.07094597816 l1.77226245403,4.63448017836 -0.301010664552,3.64497512579 l-1.95805281401,4.47388887405 -8.13948094845,3.70587825775 l-4.90797489882,1.06510527432 -18.0952692032,0.353931635618 l-3.30558538437,-1.26244470477 -10.4850661755,-5.8826905489 l-1.44492790103,-2.33652368188 -0.459566041827,-1.56240165234 l0.57836830616,-1.40465989709 1.06126576662,-0.91100461781 l1.27158880234,-0.363012813032 3.41026842594,0.0165552727412 l1.08594328165,-0.667658597231 2.18539848924,-0.161004178226 l5.45985400677,-0.568581782281 4.33074146509,6.96608458384e-05 l0.7522854954,-0.549165792763 2.02352523804,-0.922413617373 l5.27407944202,0.000196364544536 0.260576363653,1.49795159698 l2.60911971331,0.276058577001 0.265257582068,-0.0466100871563 l2.59821772575,-0.0714662997052 7.25056827068,1.26571029425 l0.301725696772,1.18961103261 0.391514599323,0.000422549746872 l0.000180765637197,1.22706107795 -1.38399019837,1.56148135662 l-2.54108518362,9.75214697974e-05 m-27.9590916634,4.18351322412 l-0.00016965515897,3.60845029354 -0.167328063399,7.38247096539 l-1.0221811384,3.00108522177 1.75491943955,1.14258095622 l3.27453255653,0.000191917133634 2.15871557593,-1.41453683376 l1.40753746033,-2.46643021703 0.988130494952,-9.89310204983 m65.4721202836,-7.71245412202 l0.0227948557585,3.93280655146 -1.65573790669,2.14086771011 l-1.73923894763,0.000472825449833 -2.22850754857,-2.09625512362 l-1.27348855138,-3.56447905302 -1.51471238041e-05,-1.22911795974 l0.819657742977,0.000301185918943 -0.000132546792884,1.23481415212 l-1.04628905654,1.70923665166 -2.62911528349,1.29438281059 l-3.89594644308,0.000501876165799 -2.43445664644,-1.6603025794 l-0.496865585446,-1.73977732658 0.488027855754,-2.10376948118 l2.01990097761,-2.23044335842 2.5290453434,-1.24754674733 l1.28376841545,0.000277710914816 3.66963148117,-1.42225399613 l1.74473568797,-1.15737058222 1.543751508,0.391767248511 l0.259998943657,0.42932216078 -0.827252566814,1.24834902585 l-1.64695680141,0.000370173474948 m-5.90207338333,2.54079937935 l-0.0925784744322,0.692769512534 0.452146269381,0.285443533212 l0.288355182856,-0.894692763686 -0.60835454613,0.000245919618465 l-0.00024338662115,0.590968728065 0.413946062326,0.171635076404 m-5.24202346802,3.90202701092 l2.50141769648,0.000126589611682 -0.868325605989,0.697317346931 m2.77795940638,-2.25836232305 l-2.86139547825,2.50329822302 1.31202980876,0.987950563431 l2.47555062175,0.193822048604 m12.2574973106,-10.5025744438 l6.48464202881,-2.15787008405 6.88106179237,-0.573557764292 l7.53458321095,0.42340900749 8.73941838741,7.34485208988 l-8.48684976518e-05,4.17376548052 -6.52819156647,3.50401073694 l-9.17054116726,0.329108014703 -2.32968792319,-0.542225986719 l-7.38563597202,-4.06911313534 -6.98189675808,-1.35360613465 l-0.172193367034,0.631031244993 -0.934038385749,2.66660600901 l-1.42521873116,4.02894437313 -0.484010204673,4.40237820148 l-0.484013110399,2.32631161809 1.41934722662,1.95705920458 l1.72835722566,0.937546417117 2.36673742533,0.000277052531601 l2.45869338512,-2.9002314806 0.852202773094,-2.53290653229 l-0.000176369649125,-6.39795482159 0.360427610576,-1.23919285834 l0.000152111142597,1.78970724344 0.000704757985659,7.84029304981 l1.33258298039,7.14924454689 1.28558069468,1.38456478715 l3.09352993965,0.278087798506 1.6776753962,-1.90205693245 l1.07781708241,-2.66397207975 0.25980796665,-8.64753961563 l-0.991860181093,-5.36708176136 0.648531839252,-1.58675402403 l2.04275533557,0.000390185668948 2.01255217195,1.79891765118 l7.20245540142,5.98039150238 8.72669517994,7.82423377037 l6.24929368496,2.45446771383 4.64561700821,-2.72077620029 l2.30464458466,-6.04242920876 -2.79224216938,-6.74465179443 l-3.29392790794,-4.1296800971 -1.99594587088,-2.02923938632 l-0.45249581337,-1.74242481589 -0.00319177721394,-2.89812535048 l3.64659428596,-3.75720083714 6.56028807163,-2.40461692214 l3.98079514503,0.401984229684 1.84385478497,1.41162320971 l2.06789776683,4.08398002386 -0.121024977416,6.65680587292 l-0.828485712409,1.37331262231 -3.74932050705,1.41243696213 l-4.83743876219,-0.000181304312719 m-16.9200110435,-15.5909144878 l2.17055246234,-0.725179314613 5.96012175083,-0.287124793977 l4.44112598896,2.28478118777 m50.4758677219,22.4912818009 l-0.0227472931147,3.83258402348 -2.3225569725,2.19632223248 l-2.67798662186,0.358340106905 -0.904227644205,-1.03852510452 l-0.159177668393,-2.74237215519 1.60826966166,-4.7696813941 l1.19180068374,-1.36807128787 1.12420320511,0.129626756534 l-1.66185617447,2.57723003626 -4.66613233089,3.40532749891 l-2.32430428267,-0.874827057123 -0.981743633747,-1.46375894547 l-0.219243410975,-3.97587090731 1.2539537251,-2.86708563566 l1.89061760902,-1.49745866656 3.26538383961,-1.09277226031 l-1.726269871,2.1366366744 0.0301263714209,-1.60470619798 l-3.13328295946,0.00319298997056 -1.43455579877,0.817869752645 l-1.92661166191,5.35960452908e-05 0.199051033705,-3.00061643124 l2.2244797647,-3.07103395462 -2.15894237161,-0.317851230502 l-0.924853533506,2.11334395317e-05 4.78371612189e-05,-1.25557109714 l0.0874163582921,-2.06818223 0.161287803203,-2.53445386887 l2.24063485861,-2.60858714581 0.968685224652,-0.518072061241 l0.519482307136,-1.27198070288 2.32673168182,-1.41827240586 l5.83422482014,-0.000212176746572 4.32058691978,2.70796328783 l3.77662211657,3.13038855791 0.000493700208608,4.58036363125 l0.790497660637,1.42783403397 0.138682415709,2.80671447515 l2.774091959,6.65745198727 0.000439317627752,4.90645319223 l-2.55843102932,0.784669294953 -5.81852018833,0.000241265970544 l-4.04523044825,-1.50824278593 -1.03059194982,-0.914516597986 l-1.40506610274,-3.46371203661 0.000396115901822,-3.81049782038 m7.09453225136,-6.34932041168 l8.34693764773e-06,-1.50338158011 1.50091379881,-2.20987096429 l2.66961574554,-1.56752184033 3.11437100172,-0.315791592002 l1.82006716728,0.416190177202 2.03200891614,1.78666502237 l1.40788331628,4.42257136106 -1.82948708534,4.27728265524 l-1.05387955904,0.913949683309 -2.69018560648,-0.327502042055 l-2.12614148855,-6.25604271889 0.458583682775,-1.41562715173 l2.83368527889,-1.33238375187 3.89596939087,-0.328620560467 l1.93258687854,1.38540506363 0.860325172544,1.22347779572 l0.61145786196,4.13388103247 -1.20440296829,1.57454684377 l-2.04362943769,0.373075678945 -2.92246043682,-2.2558106482 l-0.723977014422,-1.86389222741 1.48214310408,-3.38509470224 l3.17604750395,-2.99199998379 3.43993365765,-0.809177979827 l4.69189435244,0.389441475272 2.48279452324,2.56481200457 l1.19935467839,2.79589354992 6.82288373355e-05,2.46406331658 l-1.25057801604,2.36366614699 -3.85152965784,1.85837432742 l-4.92023050785,-0.683885067701 -1.2891151011,-1.9368852675 l0.480617061257,-3.69446963072 2.88480728865,-2.55781412125 l3.80583286285,-0.765473246574 5.24926841259,2.00660973787 l1.30921557546,2.02282831073 -3.05572628975,5.20037829876 l-5.57006597519,1.94450899959 -4.71147924662,-0.709224790335 l-3.47383379936,-2.85427868366 3.0512458086,-0.994869023561 l5.31286180019,0.21358769387 2.03566029668,0.808960944414 l0.784315168858,2.30665117502 -0.000359999285138,1.72701209784 l-2.43291333318,1.98939427733 -4.12039667368,0.671976432204 l-4.82666969299,-0.928910896182 -2.14910238981,-2.38897740841 l7.3039329052,-1.10113091767 8.02303671837,1.64243683219 m-25.79839468,4.95453238487 l-2.73114860058,8.5356426239 -3.06320726871,5.14938116074 l-0.705933272839,-0.290157720447 2.07255482674,-9.61979448795 l-0.559913665056,-1.70375183225 m12.6624250412,-2.9973077774 l0.279485881329,2.38457739353 0.691311433911,8.01491379738 l1.59352660179,0.692180246115 1.17540061474,-0.882136374712 l-0.000343673345924,-4.95632320642 -1.11514672637,-2.3219718039 l-0.727775543928,2.25783228874 \" fill=\"none\" stroke=\"black\" stroke-width=\"1\"/></svg>"
          },
          "metadata": {
            "tags": []
          }
        }
      ]
    },
    {
      "metadata": {
        "id": "XQ7d_GD0oorx",
        "colab_type": "code",
        "colab": {}
      },
      "cell_type": "code",
      "source": [
        ""
      ],
      "execution_count": 0,
      "outputs": []
    }
  ]
}